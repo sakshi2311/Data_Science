{
  "nbformat": 4,
  "nbformat_minor": 0,
  "metadata": {
    "colab": {
      "name": "Ds_expt4.ipynb",
      "provenance": []
    },
    "kernelspec": {
      "name": "python3",
      "display_name": "Python 3"
    },
    "language_info": {
      "name": "python"
    }
  },
  "cells": [
    {
      "cell_type": "code",
      "source": [
        "from google.colab import drive\n",
        "drive.mount('/content/drive')"
      ],
      "metadata": {
        "colab": {
          "base_uri": "https://localhost:8080/"
        },
        "id": "byPr9LdSNMeo",
        "outputId": "e8dbadce-572e-476f-8a7d-4d12ddb3e02e"
      },
      "execution_count": 1,
      "outputs": [
        {
          "output_type": "stream",
          "name": "stdout",
          "text": [
            "Mounted at /content/drive\n"
          ]
        }
      ]
    },
    {
      "cell_type": "code",
      "execution_count": 2,
      "metadata": {
        "colab": {
          "base_uri": "https://localhost:8080/"
        },
        "id": "biOhU3DvM4Hz",
        "outputId": "2be279a4-894e-4eab-e6d7-1c934b702134"
      },
      "outputs": [
        {
          "output_type": "stream",
          "name": "stdout",
          "text": [
            "Collecting fuzzywuzzy\n",
            "  Downloading fuzzywuzzy-0.18.0-py2.py3-none-any.whl (18 kB)\n",
            "Installing collected packages: fuzzywuzzy\n",
            "Successfully installed fuzzywuzzy-0.18.0\n"
          ]
        },
        {
          "output_type": "stream",
          "name": "stderr",
          "text": [
            "/usr/local/lib/python3.7/dist-packages/fuzzywuzzy/fuzz.py:11: UserWarning: Using slow pure-python SequenceMatcher. Install python-Levenshtein to remove this warning\n",
            "  warnings.warn('Using slow pure-python SequenceMatcher. Install python-Levenshtein to remove this warning')\n"
          ]
        }
      ],
      "source": [
        "import pandas as pd\n",
        "import numpy as np\n",
        "import missingno\n",
        "! pip3 install fuzzywuzzy\n",
        "import fuzzywuzzy\n",
        "from fuzzywuzzy import process\n",
        "import collections\n",
        "import matplotlib.pyplot as plt\n",
        "from plotly.subplots import make_subplots\n",
        "import plotly.graph_objects as go\n",
        "import plotly.figure_factory as ff\n",
        "from scipy.stats import shapiro\n",
        "from scipy.stats import mannwhitneyu"
      ]
    },
    {
      "cell_type": "code",
      "source": [
        "best_books = pd.read_csv('drive/MyDrive/Data_Science/books.csv')\n",
        "best_books.head()"
      ],
      "metadata": {
        "colab": {
          "base_uri": "https://localhost:8080/",
          "height": 206
        },
        "id": "kqAI3q1kOTsF",
        "outputId": "587eac3c-82fb-458d-c651-282f46e17d15"
      },
      "execution_count": 3,
      "outputs": [
        {
          "output_type": "execute_result",
          "data": {
            "text/plain": [
              "                                                Name  \\\n",
              "0                      10-Day Green Smoothie Cleanse   \n",
              "1                                  11/22/63: A Novel   \n",
              "2            12 Rules for Life: An Antidote to Chaos   \n",
              "3                             1984 (Signet Classics)   \n",
              "4  5,000 Awesome Facts (About Everything!) (Natio...   \n",
              "\n",
              "                     Author  User Rating  Reviews  Price  Year        Genre  \n",
              "0                  JJ Smith          4.7    17350      8  2016  Non Fiction  \n",
              "1              Stephen King          4.6     2052     22  2011      Fiction  \n",
              "2        Jordan B. Peterson          4.7    18979     15  2018  Non Fiction  \n",
              "3             George Orwell          4.7    21424      6  2017      Fiction  \n",
              "4  National Geographic Kids          4.8     7665     12  2019  Non Fiction  "
            ],
            "text/html": [
              "\n",
              "  <div id=\"df-8abcfcfe-50c8-4b35-b5e8-5173c7adf480\">\n",
              "    <div class=\"colab-df-container\">\n",
              "      <div>\n",
              "<style scoped>\n",
              "    .dataframe tbody tr th:only-of-type {\n",
              "        vertical-align: middle;\n",
              "    }\n",
              "\n",
              "    .dataframe tbody tr th {\n",
              "        vertical-align: top;\n",
              "    }\n",
              "\n",
              "    .dataframe thead th {\n",
              "        text-align: right;\n",
              "    }\n",
              "</style>\n",
              "<table border=\"1\" class=\"dataframe\">\n",
              "  <thead>\n",
              "    <tr style=\"text-align: right;\">\n",
              "      <th></th>\n",
              "      <th>Name</th>\n",
              "      <th>Author</th>\n",
              "      <th>User Rating</th>\n",
              "      <th>Reviews</th>\n",
              "      <th>Price</th>\n",
              "      <th>Year</th>\n",
              "      <th>Genre</th>\n",
              "    </tr>\n",
              "  </thead>\n",
              "  <tbody>\n",
              "    <tr>\n",
              "      <th>0</th>\n",
              "      <td>10-Day Green Smoothie Cleanse</td>\n",
              "      <td>JJ Smith</td>\n",
              "      <td>4.7</td>\n",
              "      <td>17350</td>\n",
              "      <td>8</td>\n",
              "      <td>2016</td>\n",
              "      <td>Non Fiction</td>\n",
              "    </tr>\n",
              "    <tr>\n",
              "      <th>1</th>\n",
              "      <td>11/22/63: A Novel</td>\n",
              "      <td>Stephen King</td>\n",
              "      <td>4.6</td>\n",
              "      <td>2052</td>\n",
              "      <td>22</td>\n",
              "      <td>2011</td>\n",
              "      <td>Fiction</td>\n",
              "    </tr>\n",
              "    <tr>\n",
              "      <th>2</th>\n",
              "      <td>12 Rules for Life: An Antidote to Chaos</td>\n",
              "      <td>Jordan B. Peterson</td>\n",
              "      <td>4.7</td>\n",
              "      <td>18979</td>\n",
              "      <td>15</td>\n",
              "      <td>2018</td>\n",
              "      <td>Non Fiction</td>\n",
              "    </tr>\n",
              "    <tr>\n",
              "      <th>3</th>\n",
              "      <td>1984 (Signet Classics)</td>\n",
              "      <td>George Orwell</td>\n",
              "      <td>4.7</td>\n",
              "      <td>21424</td>\n",
              "      <td>6</td>\n",
              "      <td>2017</td>\n",
              "      <td>Fiction</td>\n",
              "    </tr>\n",
              "    <tr>\n",
              "      <th>4</th>\n",
              "      <td>5,000 Awesome Facts (About Everything!) (Natio...</td>\n",
              "      <td>National Geographic Kids</td>\n",
              "      <td>4.8</td>\n",
              "      <td>7665</td>\n",
              "      <td>12</td>\n",
              "      <td>2019</td>\n",
              "      <td>Non Fiction</td>\n",
              "    </tr>\n",
              "  </tbody>\n",
              "</table>\n",
              "</div>\n",
              "      <button class=\"colab-df-convert\" onclick=\"convertToInteractive('df-8abcfcfe-50c8-4b35-b5e8-5173c7adf480')\"\n",
              "              title=\"Convert this dataframe to an interactive table.\"\n",
              "              style=\"display:none;\">\n",
              "        \n",
              "  <svg xmlns=\"http://www.w3.org/2000/svg\" height=\"24px\"viewBox=\"0 0 24 24\"\n",
              "       width=\"24px\">\n",
              "    <path d=\"M0 0h24v24H0V0z\" fill=\"none\"/>\n",
              "    <path d=\"M18.56 5.44l.94 2.06.94-2.06 2.06-.94-2.06-.94-.94-2.06-.94 2.06-2.06.94zm-11 1L8.5 8.5l.94-2.06 2.06-.94-2.06-.94L8.5 2.5l-.94 2.06-2.06.94zm10 10l.94 2.06.94-2.06 2.06-.94-2.06-.94-.94-2.06-.94 2.06-2.06.94z\"/><path d=\"M17.41 7.96l-1.37-1.37c-.4-.4-.92-.59-1.43-.59-.52 0-1.04.2-1.43.59L10.3 9.45l-7.72 7.72c-.78.78-.78 2.05 0 2.83L4 21.41c.39.39.9.59 1.41.59.51 0 1.02-.2 1.41-.59l7.78-7.78 2.81-2.81c.8-.78.8-2.07 0-2.86zM5.41 20L4 18.59l7.72-7.72 1.47 1.35L5.41 20z\"/>\n",
              "  </svg>\n",
              "      </button>\n",
              "      \n",
              "  <style>\n",
              "    .colab-df-container {\n",
              "      display:flex;\n",
              "      flex-wrap:wrap;\n",
              "      gap: 12px;\n",
              "    }\n",
              "\n",
              "    .colab-df-convert {\n",
              "      background-color: #E8F0FE;\n",
              "      border: none;\n",
              "      border-radius: 50%;\n",
              "      cursor: pointer;\n",
              "      display: none;\n",
              "      fill: #1967D2;\n",
              "      height: 32px;\n",
              "      padding: 0 0 0 0;\n",
              "      width: 32px;\n",
              "    }\n",
              "\n",
              "    .colab-df-convert:hover {\n",
              "      background-color: #E2EBFA;\n",
              "      box-shadow: 0px 1px 2px rgba(60, 64, 67, 0.3), 0px 1px 3px 1px rgba(60, 64, 67, 0.15);\n",
              "      fill: #174EA6;\n",
              "    }\n",
              "\n",
              "    [theme=dark] .colab-df-convert {\n",
              "      background-color: #3B4455;\n",
              "      fill: #D2E3FC;\n",
              "    }\n",
              "\n",
              "    [theme=dark] .colab-df-convert:hover {\n",
              "      background-color: #434B5C;\n",
              "      box-shadow: 0px 1px 3px 1px rgba(0, 0, 0, 0.15);\n",
              "      filter: drop-shadow(0px 1px 2px rgba(0, 0, 0, 0.3));\n",
              "      fill: #FFFFFF;\n",
              "    }\n",
              "  </style>\n",
              "\n",
              "      <script>\n",
              "        const buttonEl =\n",
              "          document.querySelector('#df-8abcfcfe-50c8-4b35-b5e8-5173c7adf480 button.colab-df-convert');\n",
              "        buttonEl.style.display =\n",
              "          google.colab.kernel.accessAllowed ? 'block' : 'none';\n",
              "\n",
              "        async function convertToInteractive(key) {\n",
              "          const element = document.querySelector('#df-8abcfcfe-50c8-4b35-b5e8-5173c7adf480');\n",
              "          const dataTable =\n",
              "            await google.colab.kernel.invokeFunction('convertToInteractive',\n",
              "                                                     [key], {});\n",
              "          if (!dataTable) return;\n",
              "\n",
              "          const docLinkHtml = 'Like what you see? Visit the ' +\n",
              "            '<a target=\"_blank\" href=https://colab.research.google.com/notebooks/data_table.ipynb>data table notebook</a>'\n",
              "            + ' to learn more about interactive tables.';\n",
              "          element.innerHTML = '';\n",
              "          dataTable['output_type'] = 'display_data';\n",
              "          await google.colab.output.renderOutput(dataTable, element);\n",
              "          const docLink = document.createElement('div');\n",
              "          docLink.innerHTML = docLinkHtml;\n",
              "          element.appendChild(docLink);\n",
              "        }\n",
              "      </script>\n",
              "    </div>\n",
              "  </div>\n",
              "  "
            ]
          },
          "metadata": {},
          "execution_count": 3
        }
      ]
    },
    {
      "cell_type": "code",
      "source": [
        "best_books.shape"
      ],
      "metadata": {
        "colab": {
          "base_uri": "https://localhost:8080/"
        },
        "id": "zKEo8qmgPdz0",
        "outputId": "49cc53f4-f923-4f50-c58b-783ebe735d1c"
      },
      "execution_count": 4,
      "outputs": [
        {
          "output_type": "execute_result",
          "data": {
            "text/plain": [
              "(550, 7)"
            ]
          },
          "metadata": {},
          "execution_count": 4
        }
      ]
    },
    {
      "cell_type": "code",
      "source": [
        "best_books.columns"
      ],
      "metadata": {
        "colab": {
          "base_uri": "https://localhost:8080/"
        },
        "id": "QMsEisWAPLk4",
        "outputId": "e1f8cc0b-9c6d-4f44-99f5-13089f1d5884"
      },
      "execution_count": 5,
      "outputs": [
        {
          "output_type": "execute_result",
          "data": {
            "text/plain": [
              "Index(['Name', 'Author', 'User Rating', 'Reviews', 'Price', 'Year', 'Genre'], dtype='object')"
            ]
          },
          "metadata": {},
          "execution_count": 5
        }
      ]
    },
    {
      "cell_type": "code",
      "source": [
        "best_books.describe()"
      ],
      "metadata": {
        "colab": {
          "base_uri": "https://localhost:8080/",
          "height": 300
        },
        "id": "4uz_th4JPSn3",
        "outputId": "5af33d2c-5977-4825-8bbd-b966190f65e0"
      },
      "execution_count": 6,
      "outputs": [
        {
          "output_type": "execute_result",
          "data": {
            "text/plain": [
              "       User Rating       Reviews       Price         Year\n",
              "count   550.000000    550.000000  550.000000   550.000000\n",
              "mean      4.618364  11953.281818   13.100000  2014.000000\n",
              "std       0.226980  11731.132017   10.842262     3.165156\n",
              "min       3.300000     37.000000    0.000000  2009.000000\n",
              "25%       4.500000   4058.000000    7.000000  2011.000000\n",
              "50%       4.700000   8580.000000   11.000000  2014.000000\n",
              "75%       4.800000  17253.250000   16.000000  2017.000000\n",
              "max       4.900000  87841.000000  105.000000  2019.000000"
            ],
            "text/html": [
              "\n",
              "  <div id=\"df-790be381-bc1f-40bd-98b0-ec813ab8f7d4\">\n",
              "    <div class=\"colab-df-container\">\n",
              "      <div>\n",
              "<style scoped>\n",
              "    .dataframe tbody tr th:only-of-type {\n",
              "        vertical-align: middle;\n",
              "    }\n",
              "\n",
              "    .dataframe tbody tr th {\n",
              "        vertical-align: top;\n",
              "    }\n",
              "\n",
              "    .dataframe thead th {\n",
              "        text-align: right;\n",
              "    }\n",
              "</style>\n",
              "<table border=\"1\" class=\"dataframe\">\n",
              "  <thead>\n",
              "    <tr style=\"text-align: right;\">\n",
              "      <th></th>\n",
              "      <th>User Rating</th>\n",
              "      <th>Reviews</th>\n",
              "      <th>Price</th>\n",
              "      <th>Year</th>\n",
              "    </tr>\n",
              "  </thead>\n",
              "  <tbody>\n",
              "    <tr>\n",
              "      <th>count</th>\n",
              "      <td>550.000000</td>\n",
              "      <td>550.000000</td>\n",
              "      <td>550.000000</td>\n",
              "      <td>550.000000</td>\n",
              "    </tr>\n",
              "    <tr>\n",
              "      <th>mean</th>\n",
              "      <td>4.618364</td>\n",
              "      <td>11953.281818</td>\n",
              "      <td>13.100000</td>\n",
              "      <td>2014.000000</td>\n",
              "    </tr>\n",
              "    <tr>\n",
              "      <th>std</th>\n",
              "      <td>0.226980</td>\n",
              "      <td>11731.132017</td>\n",
              "      <td>10.842262</td>\n",
              "      <td>3.165156</td>\n",
              "    </tr>\n",
              "    <tr>\n",
              "      <th>min</th>\n",
              "      <td>3.300000</td>\n",
              "      <td>37.000000</td>\n",
              "      <td>0.000000</td>\n",
              "      <td>2009.000000</td>\n",
              "    </tr>\n",
              "    <tr>\n",
              "      <th>25%</th>\n",
              "      <td>4.500000</td>\n",
              "      <td>4058.000000</td>\n",
              "      <td>7.000000</td>\n",
              "      <td>2011.000000</td>\n",
              "    </tr>\n",
              "    <tr>\n",
              "      <th>50%</th>\n",
              "      <td>4.700000</td>\n",
              "      <td>8580.000000</td>\n",
              "      <td>11.000000</td>\n",
              "      <td>2014.000000</td>\n",
              "    </tr>\n",
              "    <tr>\n",
              "      <th>75%</th>\n",
              "      <td>4.800000</td>\n",
              "      <td>17253.250000</td>\n",
              "      <td>16.000000</td>\n",
              "      <td>2017.000000</td>\n",
              "    </tr>\n",
              "    <tr>\n",
              "      <th>max</th>\n",
              "      <td>4.900000</td>\n",
              "      <td>87841.000000</td>\n",
              "      <td>105.000000</td>\n",
              "      <td>2019.000000</td>\n",
              "    </tr>\n",
              "  </tbody>\n",
              "</table>\n",
              "</div>\n",
              "      <button class=\"colab-df-convert\" onclick=\"convertToInteractive('df-790be381-bc1f-40bd-98b0-ec813ab8f7d4')\"\n",
              "              title=\"Convert this dataframe to an interactive table.\"\n",
              "              style=\"display:none;\">\n",
              "        \n",
              "  <svg xmlns=\"http://www.w3.org/2000/svg\" height=\"24px\"viewBox=\"0 0 24 24\"\n",
              "       width=\"24px\">\n",
              "    <path d=\"M0 0h24v24H0V0z\" fill=\"none\"/>\n",
              "    <path d=\"M18.56 5.44l.94 2.06.94-2.06 2.06-.94-2.06-.94-.94-2.06-.94 2.06-2.06.94zm-11 1L8.5 8.5l.94-2.06 2.06-.94-2.06-.94L8.5 2.5l-.94 2.06-2.06.94zm10 10l.94 2.06.94-2.06 2.06-.94-2.06-.94-.94-2.06-.94 2.06-2.06.94z\"/><path d=\"M17.41 7.96l-1.37-1.37c-.4-.4-.92-.59-1.43-.59-.52 0-1.04.2-1.43.59L10.3 9.45l-7.72 7.72c-.78.78-.78 2.05 0 2.83L4 21.41c.39.39.9.59 1.41.59.51 0 1.02-.2 1.41-.59l7.78-7.78 2.81-2.81c.8-.78.8-2.07 0-2.86zM5.41 20L4 18.59l7.72-7.72 1.47 1.35L5.41 20z\"/>\n",
              "  </svg>\n",
              "      </button>\n",
              "      \n",
              "  <style>\n",
              "    .colab-df-container {\n",
              "      display:flex;\n",
              "      flex-wrap:wrap;\n",
              "      gap: 12px;\n",
              "    }\n",
              "\n",
              "    .colab-df-convert {\n",
              "      background-color: #E8F0FE;\n",
              "      border: none;\n",
              "      border-radius: 50%;\n",
              "      cursor: pointer;\n",
              "      display: none;\n",
              "      fill: #1967D2;\n",
              "      height: 32px;\n",
              "      padding: 0 0 0 0;\n",
              "      width: 32px;\n",
              "    }\n",
              "\n",
              "    .colab-df-convert:hover {\n",
              "      background-color: #E2EBFA;\n",
              "      box-shadow: 0px 1px 2px rgba(60, 64, 67, 0.3), 0px 1px 3px 1px rgba(60, 64, 67, 0.15);\n",
              "      fill: #174EA6;\n",
              "    }\n",
              "\n",
              "    [theme=dark] .colab-df-convert {\n",
              "      background-color: #3B4455;\n",
              "      fill: #D2E3FC;\n",
              "    }\n",
              "\n",
              "    [theme=dark] .colab-df-convert:hover {\n",
              "      background-color: #434B5C;\n",
              "      box-shadow: 0px 1px 3px 1px rgba(0, 0, 0, 0.15);\n",
              "      filter: drop-shadow(0px 1px 2px rgba(0, 0, 0, 0.3));\n",
              "      fill: #FFFFFF;\n",
              "    }\n",
              "  </style>\n",
              "\n",
              "      <script>\n",
              "        const buttonEl =\n",
              "          document.querySelector('#df-790be381-bc1f-40bd-98b0-ec813ab8f7d4 button.colab-df-convert');\n",
              "        buttonEl.style.display =\n",
              "          google.colab.kernel.accessAllowed ? 'block' : 'none';\n",
              "\n",
              "        async function convertToInteractive(key) {\n",
              "          const element = document.querySelector('#df-790be381-bc1f-40bd-98b0-ec813ab8f7d4');\n",
              "          const dataTable =\n",
              "            await google.colab.kernel.invokeFunction('convertToInteractive',\n",
              "                                                     [key], {});\n",
              "          if (!dataTable) return;\n",
              "\n",
              "          const docLinkHtml = 'Like what you see? Visit the ' +\n",
              "            '<a target=\"_blank\" href=https://colab.research.google.com/notebooks/data_table.ipynb>data table notebook</a>'\n",
              "            + ' to learn more about interactive tables.';\n",
              "          element.innerHTML = '';\n",
              "          dataTable['output_type'] = 'display_data';\n",
              "          await google.colab.output.renderOutput(dataTable, element);\n",
              "          const docLink = document.createElement('div');\n",
              "          docLink.innerHTML = docLinkHtml;\n",
              "          element.appendChild(docLink);\n",
              "        }\n",
              "      </script>\n",
              "    </div>\n",
              "  </div>\n",
              "  "
            ]
          },
          "metadata": {},
          "execution_count": 6
        }
      ]
    },
    {
      "cell_type": "code",
      "source": [
        "best_books.info() #check nan values"
      ],
      "metadata": {
        "colab": {
          "base_uri": "https://localhost:8080/"
        },
        "id": "tZni7TVoPTV9",
        "outputId": "6da01dd2-c56a-421e-ec8b-c3ac83c302cd"
      },
      "execution_count": 7,
      "outputs": [
        {
          "output_type": "stream",
          "name": "stdout",
          "text": [
            "<class 'pandas.core.frame.DataFrame'>\n",
            "RangeIndex: 550 entries, 0 to 549\n",
            "Data columns (total 7 columns):\n",
            " #   Column       Non-Null Count  Dtype  \n",
            "---  ------       --------------  -----  \n",
            " 0   Name         550 non-null    object \n",
            " 1   Author       550 non-null    object \n",
            " 2   User Rating  550 non-null    float64\n",
            " 3   Reviews      550 non-null    int64  \n",
            " 4   Price        550 non-null    int64  \n",
            " 5   Year         550 non-null    int64  \n",
            " 6   Genre        550 non-null    object \n",
            "dtypes: float64(1), int64(3), object(3)\n",
            "memory usage: 30.2+ KB\n"
          ]
        }
      ]
    },
    {
      "cell_type": "code",
      "source": [
        "#BarGraph of missing values for clearer visualisation\n",
        "null = best_books.isnull().sum()\n",
        "\n",
        "from matplotlib import pyplot as plt\n",
        "\n",
        "plt.figure(figsize=(20,10))\n",
        "plt.bar(range(len(null)),null)\n",
        "plt.xlabel('Features')\n",
        "plt.ylabel('missing')\n",
        "plt.xticks(list(range(len(best_books.columns))), list(best_books.columns.values), rotation='vertical')\n",
        "plt.show\n",
        "\n",
        "print(null)"
      ],
      "metadata": {
        "colab": {
          "base_uri": "https://localhost:8080/",
          "height": 793
        },
        "id": "x-H892KSQPRk",
        "outputId": "9ae1db0a-8c94-49d3-fbb3-b081d8cf5f7f"
      },
      "execution_count": 8,
      "outputs": [
        {
          "output_type": "stream",
          "name": "stdout",
          "text": [
            "Name           0\n",
            "Author         0\n",
            "User Rating    0\n",
            "Reviews        0\n",
            "Price          0\n",
            "Year           0\n",
            "Genre          0\n",
            "dtype: int64\n"
          ]
        },
        {
          "output_type": "display_data",
          "data": {
            "text/plain": [
              "<Figure size 1440x720 with 1 Axes>"
            ],
            "image/png": "[encoded data removed]"
          },
          "metadata": {
            "needs_background": "light"
          }
        }
      ]
    },
    {
      "cell_type": "code",
      "source": [
        "# Change the data type\n",
        "best_books.Genre = best_books.Genre.astype('category')"
      ],
      "metadata": {
        "id": "aNX916irQgbu"
      },
      "execution_count": 9,
      "outputs": []
    },
    {
      "cell_type": "code",
      "source": [
        "from scipy.stats import ttest_1samp\n",
        "user_rating_mean = np.mean(best_books['User Rating'])\n",
        "print(user_rating_mean)"
      ],
      "metadata": {
        "colab": {
          "base_uri": "https://localhost:8080/"
        },
        "id": "c-kJJ2yrRsQO",
        "outputId": "89d1d0bb-490c-42eb-a9da-b04ff797bc69"
      },
      "execution_count": 10,
      "outputs": [
        {
          "output_type": "stream",
          "name": "stdout",
          "text": [
            "4.618363636363641\n"
          ]
        }
      ]
    },
    {
      "cell_type": "code",
      "source": [
        "sample = best_books['User Rating'].sample(n=100)\n",
        "tset, pval = ttest_1samp(sample, user_rating_mean)\n",
        "print(pval)"
      ],
      "metadata": {
        "colab": {
          "base_uri": "https://localhost:8080/"
        },
        "id": "ptZe0v-AXTvW",
        "outputId": "edebe471-b7b9-4e86-bd0b-d205c50b9d80"
      },
      "execution_count": 11,
      "outputs": [
        {
          "output_type": "stream",
          "name": "stdout",
          "text": [
            "0.7152315111349921\n"
          ]
        }
      ]
    },
    {
      "cell_type": "code",
      "source": [
        "if pval < 0.05:    # alpha value is 0.05 or 5%\n",
        "   print(\" we are rejecting null hypothesis\")\n",
        "else:\n",
        "  print(\"we are accepting null hypothesis\")"
      ],
      "metadata": {
        "colab": {
          "base_uri": "https://localhost:8080/"
        },
        "id": "322vR-pGYYbr",
        "outputId": "d54bb3b0-5588-4b5e-8c33-b8d503cbfe8f"
      },
      "execution_count": 12,
      "outputs": [
        {
          "output_type": "stream",
          "name": "stdout",
          "text": [
            "we are accepting null hypothesis\n"
          ]
        }
      ]
    },
    {
      "cell_type": "code",
      "source": [
        "# Create distplot with curve_type set to 'normal'\n",
        "fig_10 = ff.create_distplot([sample], \n",
        "                         ['User Rating'], \n",
        "                         colors=['salmon'],\n",
        "                         bin_size=.1, \n",
        "                         show_rug=False)\n",
        "\n",
        "# Add title\n",
        "fig_10.update_layout(title_text='Distribution Of User Rating', \n",
        "                     template='simple_white',\n",
        "                     font=dict(family='Arial', size=12, color='black'))\n",
        "fig_10.show()"
      ],
      "metadata": {
        "colab": {
          "base_uri": "https://localhost:8080/",
          "height": 542
        },
        "id": "KMW_ZC4WbCsQ",
        "outputId": "2007accf-4c51-4856-e95a-bb4957b6192f"
      },
      "execution_count": 13,
      "outputs": [
        {
          "output_type": "display_data",
          "data": {
            "text/html": [
              "<html>\n",
              "<head><meta charset=\"utf-8\" /></head>\n",
              "<body>\n",
              "    <div>            <script src=\"https://cdnjs.cloudflare.com/ajax/libs/mathjax/2.7.5/MathJax.js?config=TeX-AMS-MML_SVG\"></script><script type=\"text/javascript\">if (window.MathJax) {MathJax.Hub.Config({SVG: {font: \"STIX-Web\"}});}</script>                <script type=\"text/javascript\">window.PlotlyConfig = {MathJaxConfig: 'local'};</script>\n",
              "        <script src=\"https://cdn.plot.ly/plotly-2.8.3.min.js\"></script>                <div id=\"ee08f87b-f86a-407d-91f6-b9afcb6a6218\" class=\"plotly-graph-div\" style=\"height:525px; width:100%;\"></div>            <script type=\"text/javascript\">                                    window.PLOTLYENV=window.PLOTLYENV || {};                                    if (document.getElementById(\"ee08f87b-f86a-407d-91f6-b9afcb6a6218\")) {                    Plotly.newPlot(                        \"ee08f87b-f86a-407d-91f6-b9afcb6a6218\",                        [{\"autobinx\":false,\"histnorm\":\"probability density\",\"legendgroup\":\"User Rating\",\"marker\":{\"color\":\"salmon\"},\"name\":\"User Rating\",\"opacity\":0.7,\"x\":[4.9,4.9,4.7,4.8,4.7,4.8,4.8,4.9,4.5,4.5,4.7,4.8,4.6,4.5,4.6,4.3,4.8,4.3,4.5,4.5,4.9,4.7,4.7,4.8,4.8,4.8,4.8,4.9,4.7,4.8,4.7,4.8,4.9,3.9,4.8,4.5,4.9,4.5,4.8,4.4,4.6,4.6,4.1,4.7,4.3,4.5,4.5,4.8,4.4,4.7,4.5,4.6,4.7,4.4,4.7,4.9,4.6,4.4,4.6,4.7,4.4,4.8,4.6,4.9,4.7,4.4,4.7,4.8,4.6,4.8,4.5,4.3,4.4,4.7,4.6,4.4,4.9,4.4,4.7,4.1,4.3,4.8,4.1,4.6,4.7,4.5,4.8,4.8,4.8,4.6,4.3,4.7,4.6,4.9,4.7,4.6,4.4,4.7,4.8,4.7],\"xaxis\":\"x\",\"xbins\":{\"end\":4.9,\"size\":0.1,\"start\":3.9},\"yaxis\":\"y\",\"type\":\"histogram\"},{\"legendgroup\":\"User Rating\",\"marker\":{\"color\":\"salmon\"},\"mode\":\"lines\",\"name\":\"User Rating\",\"showlegend\":false,\"x\":[3.9,3.9019999999999997,3.904,3.9059999999999997,3.908,3.9099999999999997,3.912,3.9139999999999997,3.916,3.9179999999999997,3.92,3.9219999999999997,3.924,3.9259999999999997,3.928,3.9299999999999997,3.932,3.9339999999999997,3.936,3.9379999999999997,3.94,3.9419999999999997,3.944,3.9459999999999997,3.948,3.9499999999999997,3.952,3.9539999999999997,3.956,3.9579999999999997,3.96,3.9619999999999997,3.964,3.9659999999999997,3.968,3.9699999999999998,3.972,3.9739999999999998,3.976,3.9779999999999998,3.98,3.9819999999999998,3.984,3.9859999999999998,3.988,3.9899999999999998,3.992,3.9939999999999998,3.996,3.9979999999999998,4.0,4.002,4.004,4.006,4.008,4.01,4.012,4.014,4.016,4.018,4.02,4.022,4.024,4.026,4.028,4.03,4.032,4.034,4.036,4.038,4.04,4.042,4.044,4.046,4.048,4.05,4.052,4.054,4.056,4.058,4.06,4.062,4.064,4.066,4.068,4.07,4.072,4.074,4.076,4.078,4.08,4.082,4.084,4.086,4.088,4.09,4.092,4.094,4.096,4.098,4.1,4.102,4.104,4.106,4.108,4.11,4.112,4.114,4.116,4.118,4.12,4.122,4.124,4.126,4.128,4.13,4.132,4.134,4.136,4.138,4.14,4.142,4.144,4.146,4.148,4.15,4.152,4.154,4.156,4.158,4.16,4.162,4.164,4.166,4.168,4.17,4.172,4.174,4.176,4.178,4.18,4.182,4.184,4.186,4.188,4.19,4.192,4.194,4.196,4.198,4.2,4.202,4.204,4.206,4.208,4.21,4.212,4.214,4.216,4.218,4.22,4.222,4.224,4.226,4.228,4.23,4.232,4.234,4.236,4.238,4.24,4.242,4.244,4.246,4.248,4.25,4.252,4.2540000000000004,4.256,4.258,4.26,4.2620000000000005,4.264,4.266,4.268,4.2700000000000005,4.272,4.274,4.276,4.2780000000000005,4.28,4.282,4.284,4.2860000000000005,4.288,4.29,4.292,4.2940000000000005,4.296,4.298,4.3,4.3020000000000005,4.304,4.306,4.308,4.3100000000000005,4.312,4.314,4.316,4.318,4.32,4.322,4.324,4.3260000000000005,4.328,4.33,4.332,4.334,4.336,4.338,4.34,4.3420000000000005,4.344,4.346,4.348,4.3500000000000005,4.352,4.354,4.356,4.3580000000000005,4.36,4.362,4.364,4.3660000000000005,4.368,4.37,4.372,4.3740000000000006,4.376,4.378,4.38,4.382,4.384,4.386,4.388,4.390000000000001,4.392,4.394,4.396,4.398,4.4,4.402,4.404,4.406000000000001,4.408,4.41,4.412,4.414,4.416,4.418,4.42,4.422000000000001,4.424,4.426,4.428,4.43,4.432,4.434,4.436,4.438000000000001,4.44,4.442,4.444,4.446,4.448,4.45,4.452,4.454000000000001,4.456,4.458,4.46,4.462,4.464,4.466,4.468,4.47,4.472,4.474,4.476,4.478,4.48,4.482,4.484,4.486,4.488,4.49,4.492,4.494,4.496,4.498,4.5,4.502,4.5040000000000004,4.506,4.508,4.51,4.5120000000000005,4.514,4.516,4.518,4.5200000000000005,4.522,4.524,4.526,4.5280000000000005,4.53,4.532,4.534,4.5360000000000005,4.538,4.54,4.542,4.5440000000000005,4.546,4.548,4.550000000000001,4.5520000000000005,4.554,4.556,4.558,4.5600000000000005,4.562,4.564,4.566000000000001,4.5680000000000005,4.57,4.572,4.574,4.5760000000000005,4.578,4.58,4.582000000000001,4.5840000000000005,4.586,4.588,4.59,4.5920000000000005,4.594,4.596,4.598,4.6000000000000005,4.602,4.604,4.606,4.6080000000000005,4.61,4.612,4.614,4.6160000000000005,4.618,4.62,4.622,4.6240000000000006,4.626,4.628,4.63,4.632000000000001,4.634,4.636,4.638,4.640000000000001,4.642,4.644,4.646,4.648000000000001,4.65,4.652,4.654,4.656000000000001,4.658,4.66,4.662,4.664000000000001,4.666,4.668,4.67,4.672000000000001,4.674,4.676,4.678,4.680000000000001,4.682,4.684,4.686,4.688000000000001,4.69,4.692,4.694,4.696000000000001,4.698,4.7,4.702,4.704000000000001,4.706,4.708,4.71,4.712000000000001,4.714,4.716,4.718,4.720000000000001,4.722,4.724,4.726,4.728,4.73,4.732,4.734,4.736000000000001,4.738,4.74,4.742,4.744,4.746,4.748,4.75,4.752000000000001,4.7540000000000004,4.756,4.758,4.76,4.7620000000000005,4.764,4.766,4.768000000000001,4.7700000000000005,4.772,4.774,4.776,4.7780000000000005,4.78,4.782,4.784000000000001,4.7860000000000005,4.788,4.79,4.792,4.7940000000000005,4.796,4.798,4.800000000000001,4.8020000000000005,4.804,4.806,4.808000000000001,4.8100000000000005,4.812,4.814,4.816000000000001,4.8180000000000005,4.82,4.822,4.824000000000001,4.8260000000000005,4.828,4.83,4.832000000000001,4.8340000000000005,4.836,4.838,4.840000000000001,4.8420000000000005,4.844,4.846,4.848000000000001,4.8500000000000005,4.852,4.854,4.856,4.8580000000000005,4.86,4.862,4.864000000000001,4.8660000000000005,4.868,4.87,4.872,4.8740000000000006,4.876,4.878,4.880000000000001,4.882000000000001,4.884,4.886,4.888,4.890000000000001,4.892,4.894,4.896000000000001,4.898000000000001],\"xaxis\":\"x\",\"y\":[0.05596630379278544,0.056424486756646255,0.05687774601607263,0.05732690919332482,0.057772854108833024,0.05821650677981362,0.058658839187074735,0.05910086681301174,0.05954364595480533,0.05998827081784801,0.060435870395445096,0.06088760514185598,0.061344663446748875,0.061808257920150135,0.06227962149795677,0.06276000337904476,0.06325066480596331,0.06375287470211069,0.06426790517918718,0.06479702692956016,0.0653415045189943,0.06590259159595967,0.0664815260344481,0.06707952502788776,0.06769778015235725,0.06833745241783724,0.06899966732672433,0.06968550995923718,0.07039602010569558,0.07113218746590802,0.07189494693610676,0.07268517400396997,0.07350368027230857,0.07435120913193458,0.07522843160409882,0.07613594237265298,0.07707425602578626,0.07804380352678103,0.07904492893275601,0.08007788637977482,0.08114283735205574,0.08223984825224782,0.08336888828892519,0.08452982769651776,0.08572243630190952,0.08694638245084971,0.08820123230617297,0.08948644952859064,0.09080139534952747,0.09214532904410976,0.09351740881098745,0.09491669306419406,0.09634214214072288,0.09779262042590946,0.09926689889710781,0.1007636580844861,0.10228149144609831,0.10381890915268202,0.10537434227592284,0.10694614737221736,0.108532611452224,0.11013195732480201,0.11174234930222554,0.11336189925191306,0.11498867297822603,0.11662069691634006,0.11825596511858212,0.11989244651217423,0.12152809240582867,0.12316084422131553,0.12478864142478081,0.12640942963142152,0.12802116885595308,0.1296218418803103,0.13120946270907918,0.13278208508234465,0.1343378110149182,0.13587479933034044,0.13739127415757954,0.13888553335800452,0.14035595685000882,0.14180101479858048,0.14321927563717332,0.14460941388944193,0.14597021775871344,0.14730059645356422,0.14859958721846264,0.14986636203920664,0.15110023399373695,0.1523006632199592,0.15346726247332018,0.15459980224819275,0.15569821543848042,0.15676260151441015,0.1577932301940698,0.15879054459001676,0.15975516381308727,0.16068788501748407,0.16158968487322836,0.16246172045414822,0.16330532953173657,0.1641220302674337,0.16491352029815826,0.16568167521221897,0.1664285464150818,0.16715635838683532,0.16786750533555947,0.16856454725319345,0.16925020538284244,0.16992735710882023,0.17059903028302703,0.1712683970035392,0.17193876686349274,0.17261357969050847,0.17329639779897832,0.17399089777954277,0.17470086185198241,0.17543016880957277,0.17618278458462958,0.17696275246657278,0.17777418300527587,0.1786212436338019,0.1795081480458114,0.18043914536396558,0.18141850913654203,0.18245052620021332,0.1835394854475268,0.1846896665380288,0.18590532859224349,0.1871906989077934,0.18854996173687635,0.18998724716407642,0.19150662012306116,0.1931120695901576,0.19480749799205116,0.19659671086398198,0.19848340679372234,0.20047116768546755,0.2025634493763838,0.20476357263711503,0.20707471458589588,0.20949990054421544,0.21204199636008123,0.21470370122302088,0.21748754099283957,0.22039586206204081,0.22343082576957843,0.22659440338131925,0.22988837165021322,0.23331430896680827,0.23687359210830553,0.24056739359187837,0.24439667963554637,0.24836220872741507,0.25246453080164694,0.2567039870171502,0.261080710132531,0.26559462546857554,0.27024545244723075,0.27503270669391133,0.279955702687754,0.2850135569425431,0.290205191699002,0.29552933910746987,0.30098454587816237,0.3065691783748144,0.31228142812594967,0.3181193177268948,0.3240807071043886,0.33016330011477624,0.33636465144591715,0.34268217379230814,0.3491131452723678,0.35565471705657264,0.36230392117492904,0.36905767847223736,0.37591280667978455,0.38286602857237445,0.38991398018005796,0.3970532190245827,0.404280232351211,0.4115914453275194,0.41898322918173214,0.4264519092543381,0.43399377293780944,0.4416050774807651,0.44928205763412166,0.45702093311848946,0.46481791589339183,0.47266921721072297,0.4805710544363396,0.4885196576255331,0.49651127583969973,0.5045421831933562,0.5126086846223359,0.520707121365746,0.5288338761558767,0.5369853781120076,0.5451581073356357,0.5533485992061843,0.5615534483777966,0.5697693124792059,0.5779929155200499,0.5862210510082966,0.5944505847845466,0.602678457580126,0.6109016873068301,0.6191173710871408,0.6273226870343365,0.6355148957928152,0.6436913418493255,0.651849454626334,0.6599867493691678,0.6681008278386874,0.6761893788214826,0.6842501784696906,0.6922810904823391,0.7002800661401455,0.7082451442054705,0.7161744506987417,0.7240661985625254,0.7319186872237671,0.739730302064525,0.7474995138108145,0.7552248778487761,0.7629050334767421,0.770538703101206,0.7781246913841504,0.7856618843484883,0.7931492484478123,0.800585829606057,0.8079707522321024,0.8153032182136701,0.8225825058944947,0.8298079690380495,0.8369790357808077,0.8440952075773668,0.8511560581395761,0.8581612323712329,0.8651104452997732,0.8720034810059484,0.8788401915523243,0.8856204959112582,0.8923443788927731,0.8990118900727503,0.9056231427216472,0.912178312734049,0.9186776375592328,0.9251214151330367,0.9315100028112826,0.937843816305116,0.9441233286187051,0.9503490689897963,0.9565216218337291,0.962641625691596,0.9687097721833867,0.9747268049669352,0.9806935187036374,0.9866107580319556,0.9924794165497102,0.9983004358062819,1.0040748043057024,1.0098035565216805,1.0154877719255329,1.021128574027836,1.0267271294345461,1.032284646918181,1.0378023765044064,1.0432816085742698,1.0487236729819356,1.054129938187622,1.0595018104050897,1.0648407327627354,1.070148184476969,1.0754256800362463,1.08067476839377,1.0858970321664314,1.0910940868372827,1.0962675799583848,1.101419190350561,1.1065506272961843,1.1116636297208087,1.1167599653591407,1.121841429900491,1.1269098461086753,1.1319670629109417,1.1370149544504518,1.1420554190965184,1.1470903784068367,1.1521217760356395,1.1571515765819356,1.1621817643716794,1.1672143421680843,1.1722513298041317,1.1772947627316206,1.1823466904812523,1.1874091750284972,1.1924842890602532,1.1975741141376768,1.2026807387509326,1.2078062562620138,1.2129527627322854,1.2181223546318312,1.223317126428298,1.228539168053436,1.2337905622461525,1.2390733817714625,1.2443896865154238,1.2497415204567646,1.2551309085165137,1.2605598532877513,1.2660303316480996,1.271544291258467,1.2771036469520047,1.2827102770181364,1.288366019386995,1.2940726677204157,1.2998319674161594,1.305645611532737,1.3115152366427962,1.3174424186236224,1.3234286683938186,1.3294754276058554,1.3355840643046204,1.3417558685625937,1.3479920481027174,1.3542937239204353,1.360661925916803,1.3670975885547723,1.3736015465512443,1.3801745306175714,1.3868171632614628,1.3935299546635107,1.4003132986414881,1.4071674687158324,1.4140926142896761,1.421088756956724,1.428155786950332,1.4352934597468905,1.442501392836509,1.4497790626737914,1.457125801821108,1.4645407962965085,1.4720230831380376,1.4795715481956697,1.4871849241615989,1.4948617888490856,1.5026005637293944,1.5103995127356338,1.5182567413416155,1.5261701959230065,1.534137663407201,1.5421567712174742,1.5502249875159324,1.558339621748831,1.5664978254967938,1.574696593631389,1.582932765778335,1.591203028086583,1.599503915301228,1.6078318131372278,1.6161829609494567,1.6245534546936977,1.632939250171834,1.641336166553458,1.6497398901648777,1.658145978535452,1.666549864690189,1.6749468616764094,1.6833321673113926,1.6917008691370519,1.7000479495668506,1.708368291209412,1.716656682352737,1.7249078225922658,1.7331163285856606,1.741276739916924,1.749383525052062,1.7574310873685763,1.7654137712409765,1.7733258681647521,1.7811616229013518,1.7889152396272758,1.7965808880706988,1.8041527096199035,1.811624823388233,1.8189913322214515,1.826246328633993,1.8333839006619637,1.8403981376216114,1.8472831357632906,1.8540330038122557,1.860641868388875,1.867103879302187,1.8734132147122027,1.8795640861577194,1.8855507434478025,1.8913674794165198,1.8970086345418609,1.9024686014311325,1.9077418291763952,1.9128228275846626,1.9177061712888155,1.9223865037460817,1.9268585411320671,1.931117076138863,1.9351569816867435,1.9389732145592786,1.94256081897228,1.9459149300871328,1.9490307774793334,1.9519036885728633,1.9545290920509826,1.956902521253594,1.9590196175708998,1.9608761338424059,1.9624679377695458,1.9637910153493296,1.9648414743353473,1.9656155477313093,1.9661095973210874,1.9663201172378324,1.9662437375733868,1.9658772280276482,1.9652175015961206,1.964261618292242,1.9630067888995824,1.9614503787474393,1.959589911501771,1.957423072962014,1.9549477148528347,1.9521618585985017,1.9490636990663914,1.9456516082648052,1.941924138979477,1.937880028332053,1.9335182012431127,1.9288377737818279,1.9238380563836988,1.9185185569177345,1.912878983584278,1.9069192476247065,1.9006394658246728,1.8940399627928262,1.8871212729977023,1.879884142546218,1.8723295306882208,1.8644586110326302,1.8562727724620196,1.8477736197338614,1.8389629737582915,1.8298428715438124,1.8204155658040821,1.810683524220913,1.800649428360287,1.7903161722403298,1.7796868605518639,1.7687648065344934,1.757553529512722,1.7460567520987877,1.7342783970705864,1.722222583934989,1.7098936251883896,1.6972960222880187,1.684434461348986,1.6713138085833699,1.6579391054988273,1.6443155638752733,1.630448560538962,1.6163436319540578,1.6020064686523092,1.5874429095216562,1.5726589359747445,1.5576606660184604,1.5424543482450135,1.5270463557650333,1.511443180102192,1.4956514250684612,1.4796778006378337,1.4635291168355222,1.4472122776583591,1.4307342750406165,1.414102182878409,1.3973231511238957,1.3804043999591,1.3633532140576075,1.3461769369404613,1.3288829654309415,1.3114787442114304,1.2939717604833612,1.2763695387301877,1.2586796355812262,1.2409096347728574,1.2230671422021915,1.2051597810668546,1.1871951870833268,1.169181003775179,1.1511248778216123,1.1330344544558109,1.1149173729021653],\"yaxis\":\"y\",\"type\":\"scatter\"}],                        {\"barmode\":\"overlay\",\"hovermode\":\"closest\",\"legend\":{\"traceorder\":\"reversed\"},\"xaxis\":{\"anchor\":\"y2\",\"domain\":[0.0,1.0],\"zeroline\":false},\"yaxis\":{\"anchor\":\"free\",\"domain\":[0.0,1],\"position\":0.0},\"template\":{\"data\":{\"barpolar\":[{\"marker\":{\"line\":{\"color\":\"white\",\"width\":0.5},\"pattern\":{\"fillmode\":\"overlay\",\"size\":10,\"solidity\":0.2}},\"type\":\"barpolar\"}],\"bar\":[{\"error_x\":{\"color\":\"rgb(36,36,36)\"},\"error_y\":{\"color\":\"rgb(36,36,36)\"},\"marker\":{\"line\":{\"color\":\"white\",\"width\":0.5},\"pattern\":{\"fillmode\":\"overlay\",\"size\":10,\"solidity\":0.2}},\"type\":\"bar\"}],\"carpet\":[{\"aaxis\":{\"endlinecolor\":\"rgb(36,36,36)\",\"gridcolor\":\"white\",\"linecolor\":\"white\",\"minorgridcolor\":\"white\",\"startlinecolor\":\"rgb(36,36,36)\"},\"baxis\":{\"endlinecolor\":\"rgb(36,36,36)\",\"gridcolor\":\"white\",\"linecolor\":\"white\",\"minorgridcolor\":\"white\",\"startlinecolor\":\"rgb(36,36,36)\"},\"type\":\"carpet\"}],\"choropleth\":[{\"colorbar\":{\"outlinewidth\":1,\"tickcolor\":\"rgb(36,36,36)\",\"ticks\":\"outside\"},\"type\":\"choropleth\"}],\"contourcarpet\":[{\"colorbar\":{\"outlinewidth\":1,\"tickcolor\":\"rgb(36,36,36)\",\"ticks\":\"outside\"},\"type\":\"contourcarpet\"}],\"contour\":[{\"colorbar\":{\"outlinewidth\":1,\"tickcolor\":\"rgb(36,36,36)\",\"ticks\":\"outside\"},\"colorscale\":[[0.0,\"#440154\"],[0.1111111111111111,\"#482878\"],[0.2222222222222222,\"#3e4989\"],[0.3333333333333333,\"#31688e\"],[0.4444444444444444,\"#26828e\"],[0.5555555555555556,\"#1f9e89\"],[0.6666666666666666,\"#35b779\"],[0.7777777777777778,\"#6ece58\"],[0.8888888888888888,\"#b5de2b\"],[1.0,\"#fde725\"]],\"type\":\"contour\"}],\"heatmapgl\":[{\"colorbar\":{\"outlinewidth\":1,\"tickcolor\":\"rgb(36,36,36)\",\"ticks\":\"outside\"},\"colorscale\":[[0.0,\"#440154\"],[0.1111111111111111,\"#482878\"],[0.2222222222222222,\"#3e4989\"],[0.3333333333333333,\"#31688e\"],[0.4444444444444444,\"#26828e\"],[0.5555555555555556,\"#1f9e89\"],[0.6666666666666666,\"#35b779\"],[0.7777777777777778,\"#6ece58\"],[0.8888888888888888,\"#b5de2b\"],[1.0,\"#fde725\"]],\"type\":\"heatmapgl\"}],\"heatmap\":[{\"colorbar\":{\"outlinewidth\":1,\"tickcolor\":\"rgb(36,36,36)\",\"ticks\":\"outside\"},\"colorscale\":[[0.0,\"#440154\"],[0.1111111111111111,\"#482878\"],[0.2222222222222222,\"#3e4989\"],[0.3333333333333333,\"#31688e\"],[0.4444444444444444,\"#26828e\"],[0.5555555555555556,\"#1f9e89\"],[0.6666666666666666,\"#35b779\"],[0.7777777777777778,\"#6ece58\"],[0.8888888888888888,\"#b5de2b\"],[1.0,\"#fde725\"]],\"type\":\"heatmap\"}],\"histogram2dcontour\":[{\"colorbar\":{\"outlinewidth\":1,\"tickcolor\":\"rgb(36,36,36)\",\"ticks\":\"outside\"},\"colorscale\":[[0.0,\"#440154\"],[0.1111111111111111,\"#482878\"],[0.2222222222222222,\"#3e4989\"],[0.3333333333333333,\"#31688e\"],[0.4444444444444444,\"#26828e\"],[0.5555555555555556,\"#1f9e89\"],[0.6666666666666666,\"#35b779\"],[0.7777777777777778,\"#6ece58\"],[0.8888888888888888,\"#b5de2b\"],[1.0,\"#fde725\"]],\"type\":\"histogram2dcontour\"}],\"histogram2d\":[{\"colorbar\":{\"outlinewidth\":1,\"tickcolor\":\"rgb(36,36,36)\",\"ticks\":\"outside\"},\"colorscale\":[[0.0,\"#440154\"],[0.1111111111111111,\"#482878\"],[0.2222222222222222,\"#3e4989\"],[0.3333333333333333,\"#31688e\"],[0.4444444444444444,\"#26828e\"],[0.5555555555555556,\"#1f9e89\"],[0.6666666666666666,\"#35b779\"],[0.7777777777777778,\"#6ece58\"],[0.8888888888888888,\"#b5de2b\"],[1.0,\"#fde725\"]],\"type\":\"histogram2d\"}],\"histogram\":[{\"marker\":{\"line\":{\"color\":\"white\",\"width\":0.6}},\"type\":\"histogram\"}],\"mesh3d\":[{\"colorbar\":{\"outlinewidth\":1,\"tickcolor\":\"rgb(36,36,36)\",\"ticks\":\"outside\"},\"type\":\"mesh3d\"}],\"parcoords\":[{\"line\":{\"colorbar\":{\"outlinewidth\":1,\"tickcolor\":\"rgb(36,36,36)\",\"ticks\":\"outside\"}},\"type\":\"parcoords\"}],\"pie\":[{\"automargin\":true,\"type\":\"pie\"}],\"scatter3d\":[{\"line\":{\"colorbar\":{\"outlinewidth\":1,\"tickcolor\":\"rgb(36,36,36)\",\"ticks\":\"outside\"}},\"marker\":{\"colorbar\":{\"outlinewidth\":1,\"tickcolor\":\"rgb(36,36,36)\",\"ticks\":\"outside\"}},\"type\":\"scatter3d\"}],\"scattercarpet\":[{\"marker\":{\"colorbar\":{\"outlinewidth\":1,\"tickcolor\":\"rgb(36,36,36)\",\"ticks\":\"outside\"}},\"type\":\"scattercarpet\"}],\"scattergeo\":[{\"marker\":{\"colorbar\":{\"outlinewidth\":1,\"tickcolor\":\"rgb(36,36,36)\",\"ticks\":\"outside\"}},\"type\":\"scattergeo\"}],\"scattergl\":[{\"marker\":{\"colorbar\":{\"outlinewidth\":1,\"tickcolor\":\"rgb(36,36,36)\",\"ticks\":\"outside\"}},\"type\":\"scattergl\"}],\"scattermapbox\":[{\"marker\":{\"colorbar\":{\"outlinewidth\":1,\"tickcolor\":\"rgb(36,36,36)\",\"ticks\":\"outside\"}},\"type\":\"scattermapbox\"}],\"scatterpolargl\":[{\"marker\":{\"colorbar\":{\"outlinewidth\":1,\"tickcolor\":\"rgb(36,36,36)\",\"ticks\":\"outside\"}},\"type\":\"scatterpolargl\"}],\"scatterpolar\":[{\"marker\":{\"colorbar\":{\"outlinewidth\":1,\"tickcolor\":\"rgb(36,36,36)\",\"ticks\":\"outside\"}},\"type\":\"scatterpolar\"}],\"scatter\":[{\"marker\":{\"colorbar\":{\"outlinewidth\":1,\"tickcolor\":\"rgb(36,36,36)\",\"ticks\":\"outside\"}},\"type\":\"scatter\"}],\"scatterternary\":[{\"marker\":{\"colorbar\":{\"outlinewidth\":1,\"tickcolor\":\"rgb(36,36,36)\",\"ticks\":\"outside\"}},\"type\":\"scatterternary\"}],\"surface\":[{\"colorbar\":{\"outlinewidth\":1,\"tickcolor\":\"rgb(36,36,36)\",\"ticks\":\"outside\"},\"colorscale\":[[0.0,\"#440154\"],[0.1111111111111111,\"#482878\"],[0.2222222222222222,\"#3e4989\"],[0.3333333333333333,\"#31688e\"],[0.4444444444444444,\"#26828e\"],[0.5555555555555556,\"#1f9e89\"],[0.6666666666666666,\"#35b779\"],[0.7777777777777778,\"#6ece58\"],[0.8888888888888888,\"#b5de2b\"],[1.0,\"#fde725\"]],\"type\":\"surface\"}],\"table\":[{\"cells\":{\"fill\":{\"color\":\"rgb(237,237,237)\"},\"line\":{\"color\":\"white\"}},\"header\":{\"fill\":{\"color\":\"rgb(217,217,217)\"},\"line\":{\"color\":\"white\"}},\"type\":\"table\"}]},\"layout\":{\"annotationdefaults\":{\"arrowhead\":0,\"arrowwidth\":1},\"autotypenumbers\":\"strict\",\"coloraxis\":{\"colorbar\":{\"outlinewidth\":1,\"tickcolor\":\"rgb(36,36,36)\",\"ticks\":\"outside\"}},\"colorscale\":{\"diverging\":[[0.0,\"rgb(103,0,31)\"],[0.1,\"rgb(178,24,43)\"],[0.2,\"rgb(214,96,77)\"],[0.3,\"rgb(244,165,130)\"],[0.4,\"rgb(253,219,199)\"],[0.5,\"rgb(247,247,247)\"],[0.6,\"rgb(209,229,240)\"],[0.7,\"rgb(146,197,222)\"],[0.8,\"rgb(67,147,195)\"],[0.9,\"rgb(33,102,172)\"],[1.0,\"rgb(5,48,97)\"]],\"sequential\":[[0.0,\"#440154\"],[0.1111111111111111,\"#482878\"],[0.2222222222222222,\"#3e4989\"],[0.3333333333333333,\"#31688e\"],[0.4444444444444444,\"#26828e\"],[0.5555555555555556,\"#1f9e89\"],[0.6666666666666666,\"#35b779\"],[0.7777777777777778,\"#6ece58\"],[0.8888888888888888,\"#b5de2b\"],[1.0,\"#fde725\"]],\"sequentialminus\":[[0.0,\"#440154\"],[0.1111111111111111,\"#482878\"],[0.2222222222222222,\"#3e4989\"],[0.3333333333333333,\"#31688e\"],[0.4444444444444444,\"#26828e\"],[0.5555555555555556,\"#1f9e89\"],[0.6666666666666666,\"#35b779\"],[0.7777777777777778,\"#6ece58\"],[0.8888888888888888,\"#b5de2b\"],[1.0,\"#fde725\"]]},\"colorway\":[\"#1F77B4\",\"#FF7F0E\",\"#2CA02C\",\"#D62728\",\"#9467BD\",\"#8C564B\",\"#E377C2\",\"#7F7F7F\",\"#BCBD22\",\"#17BECF\"],\"font\":{\"color\":\"rgb(36,36,36)\"},\"geo\":{\"bgcolor\":\"white\",\"lakecolor\":\"white\",\"landcolor\":\"white\",\"showlakes\":true,\"showland\":true,\"subunitcolor\":\"white\"},\"hoverlabel\":{\"align\":\"left\"},\"hovermode\":\"closest\",\"mapbox\":{\"style\":\"light\"},\"paper_bgcolor\":\"white\",\"plot_bgcolor\":\"white\",\"polar\":{\"angularaxis\":{\"gridcolor\":\"rgb(232,232,232)\",\"linecolor\":\"rgb(36,36,36)\",\"showgrid\":false,\"showline\":true,\"ticks\":\"outside\"},\"bgcolor\":\"white\",\"radialaxis\":{\"gridcolor\":\"rgb(232,232,232)\",\"linecolor\":\"rgb(36,36,36)\",\"showgrid\":false,\"showline\":true,\"ticks\":\"outside\"}},\"scene\":{\"xaxis\":{\"backgroundcolor\":\"white\",\"gridcolor\":\"rgb(232,232,232)\",\"gridwidth\":2,\"linecolor\":\"rgb(36,36,36)\",\"showbackground\":true,\"showgrid\":false,\"showline\":true,\"ticks\":\"outside\",\"zeroline\":false,\"zerolinecolor\":\"rgb(36,36,36)\"},\"yaxis\":{\"backgroundcolor\":\"white\",\"gridcolor\":\"rgb(232,232,232)\",\"gridwidth\":2,\"linecolor\":\"rgb(36,36,36)\",\"showbackground\":true,\"showgrid\":false,\"showline\":true,\"ticks\":\"outside\",\"zeroline\":false,\"zerolinecolor\":\"rgb(36,36,36)\"},\"zaxis\":{\"backgroundcolor\":\"white\",\"gridcolor\":\"rgb(232,232,232)\",\"gridwidth\":2,\"linecolor\":\"rgb(36,36,36)\",\"showbackground\":true,\"showgrid\":false,\"showline\":true,\"ticks\":\"outside\",\"zeroline\":false,\"zerolinecolor\":\"rgb(36,36,36)\"}},\"shapedefaults\":{\"fillcolor\":\"black\",\"line\":{\"width\":0},\"opacity\":0.3},\"ternary\":{\"aaxis\":{\"gridcolor\":\"rgb(232,232,232)\",\"linecolor\":\"rgb(36,36,36)\",\"showgrid\":false,\"showline\":true,\"ticks\":\"outside\"},\"baxis\":{\"gridcolor\":\"rgb(232,232,232)\",\"linecolor\":\"rgb(36,36,36)\",\"showgrid\":false,\"showline\":true,\"ticks\":\"outside\"},\"bgcolor\":\"white\",\"caxis\":{\"gridcolor\":\"rgb(232,232,232)\",\"linecolor\":\"rgb(36,36,36)\",\"showgrid\":false,\"showline\":true,\"ticks\":\"outside\"}},\"title\":{\"x\":0.05},\"xaxis\":{\"automargin\":true,\"gridcolor\":\"rgb(232,232,232)\",\"linecolor\":\"rgb(36,36,36)\",\"showgrid\":false,\"showline\":true,\"ticks\":\"outside\",\"title\":{\"standoff\":15},\"zeroline\":false,\"zerolinecolor\":\"rgb(36,36,36)\"},\"yaxis\":{\"automargin\":true,\"gridcolor\":\"rgb(232,232,232)\",\"linecolor\":\"rgb(36,36,36)\",\"showgrid\":false,\"showline\":true,\"ticks\":\"outside\",\"title\":{\"standoff\":15},\"zeroline\":false,\"zerolinecolor\":\"rgb(36,36,36)\"}}},\"title\":{\"text\":\"Distribution Of User Rating\"},\"font\":{\"family\":\"Arial\",\"size\":12,\"color\":\"black\"}},                        {\"responsive\": true}                    ).then(function(){\n",
              "                            \n",
              "var gd = document.getElementById('ee08f87b-f86a-407d-91f6-b9afcb6a6218');\n",
              "var x = new MutationObserver(function (mutations, observer) {{\n",
              "        var display = window.getComputedStyle(gd).display;\n",
              "        if (!display || display === 'none') {{\n",
              "            console.log([gd, 'removed!']);\n",
              "            Plotly.purge(gd);\n",
              "            observer.disconnect();\n",
              "        }}\n",
              "}});\n",
              "\n",
              "// Listen for the removal of the full notebook cells\n",
              "var notebookContainer = gd.closest('#notebook-container');\n",
              "if (notebookContainer) {{\n",
              "    x.observe(notebookContainer, {childList: true});\n",
              "}}\n",
              "\n",
              "// Listen for the clearing of the current output cell\n",
              "var outputEl = gd.closest('.output');\n",
              "if (outputEl) {{\n",
              "    x.observe(outputEl, {childList: true});\n",
              "}}\n",
              "\n",
              "                        })                };                            </script>        </div>\n",
              "</body>\n",
              "</html>"
            ]
          },
          "metadata": {}
        }
      ]
    },
    {
      "cell_type": "markdown",
      "source": [
        "# Conclusion\n",
        "Hence descriptive analysis is performed by evaluating mean, variance, standard deviaton, skewness, etc. of features present in the dataset. The hypothesis testing is performed for testing the independence between two categorical variables. Normality test is performed for numerical attributes by using histogram distribution for visual test.\n"
      ],
      "metadata": {
        "id": "UOzjBWHlLlCO"
      }
    }
  ]
}