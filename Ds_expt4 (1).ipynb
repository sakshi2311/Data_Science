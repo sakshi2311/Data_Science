{
  "nbformat": 4,
  "nbformat_minor": 0,
  "metadata": {
    "colab": {
      "name": "Ds_expt4.ipynb",
      "provenance": []
    },
    "kernelspec": {
      "name": "python3",
      "display_name": "Python 3"
    },
    "language_info": {
      "name": "python"
    }
  },
  "cells": [
    {
      "cell_type": "code",
      "source": [
        "from google.colab import drive\n",
        "drive.mount('/content/drive')"
      ],
      "metadata": {
        "colab": {
          "base_uri": "https://localhost:8080/"
        },
        "id": "byPr9LdSNMeo",
        "outputId": "bc9551aa-6038-4432-c901-baa44f64c237"
      },
      "execution_count": null,
      "outputs": [
        {
          "output_type": "stream",
          "name": "stdout",
          "text": [
            "Mounted at /content/drive\n"
          ]
        }
      ]
    },
    {
      "cell_type": "code",
      "execution_count": null,
      "metadata": {
        "colab": {
          "base_uri": "https://localhost:8080/"
        },
        "id": "biOhU3DvM4Hz",
        "outputId": "c9334ecb-3951-4830-e4cb-99e7cadfc3c7"
      },
      "outputs": [
        {
          "output_type": "stream",
          "name": "stdout",
          "text": [
            "Collecting fuzzywuzzy\n",
            "  Downloading fuzzywuzzy-0.18.0-py2.py3-none-any.whl (18 kB)\n",
            "Installing collected packages: fuzzywuzzy\n",
            "Successfully installed fuzzywuzzy-0.18.0\n"
          ]
        },
        {
          "output_type": "stream",
          "name": "stderr",
          "text": [
            "/usr/local/lib/python3.7/dist-packages/fuzzywuzzy/fuzz.py:11: UserWarning: Using slow pure-python SequenceMatcher. Install python-Levenshtein to remove this warning\n",
            "  warnings.warn('Using slow pure-python SequenceMatcher. Install python-Levenshtein to remove this warning')\n"
          ]
        }
      ],
      "source": [
        "import pandas as pd\n",
        "import numpy as np\n",
        "import missingno\n",
        "! pip3 install fuzzywuzzy\n",
        "import fuzzywuzzy\n",
        "from fuzzywuzzy import process\n",
        "import collections\n",
        "import matplotlib.pyplot as plt\n",
        "from plotly.subplots import make_subplots\n",
        "import plotly.graph_objects as go\n",
        "import plotly.figure_factory as ff\n",
        "from scipy.stats import shapiro\n",
        "from scipy.stats import mannwhitneyu"
      ]
    },
    {
      "cell_type": "code",
      "source": [
        "best_books = pd.read_csv('drive/MyDrive/Data_Science/books.csv')\n",
        "best_books.head()"
      ],
      "metadata": {
        "colab": {
          "base_uri": "https://localhost:8080/",
          "height": 206
        },
        "id": "kqAI3q1kOTsF",
        "outputId": "4542ad93-1615-456d-bea2-99e2ac259b98"
      },
      "execution_count": null,
      "outputs": [
        {
          "output_type": "execute_result",
          "data": {
            "text/plain": [
              "                                                Name  \\\n",
              "0                      10-Day Green Smoothie Cleanse   \n",
              "1                                  11/22/63: A Novel   \n",
              "2            12 Rules for Life: An Antidote to Chaos   \n",
              "3                             1984 (Signet Classics)   \n",
              "4  5,000 Awesome Facts (About Everything!) (Natio...   \n",
              "\n",
              "                     Author  User Rating  Reviews  Price  Year        Genre  \n",
              "0                  JJ Smith          4.7    17350      8  2016  Non Fiction  \n",
              "1              Stephen King          4.6     2052     22  2011      Fiction  \n",
              "2        Jordan B. Peterson          4.7    18979     15  2018  Non Fiction  \n",
              "3             George Orwell          4.7    21424      6  2017      Fiction  \n",
              "4  National Geographic Kids          4.8     7665     12  2019  Non Fiction  "
            ],
            "text/html": [
              "\n",
              "  <div id=\"df-b2801d41-c334-4110-993a-2be017f19bc6\">\n",
              "    <div class=\"colab-df-container\">\n",
              "      <div>\n",
              "<style scoped>\n",
              "    .dataframe tbody tr th:only-of-type {\n",
              "        vertical-align: middle;\n",
              "    }\n",
              "\n",
              "    .dataframe tbody tr th {\n",
              "        vertical-align: top;\n",
              "    }\n",
              "\n",
              "    .dataframe thead th {\n",
              "        text-align: right;\n",
              "    }\n",
              "</style>\n",
              "<table border=\"1\" class=\"dataframe\">\n",
              "  <thead>\n",
              "    <tr style=\"text-align: right;\">\n",
              "      <th></th>\n",
              "      <th>Name</th>\n",
              "      <th>Author</th>\n",
              "      <th>User Rating</th>\n",
              "      <th>Reviews</th>\n",
              "      <th>Price</th>\n",
              "      <th>Year</th>\n",
              "      <th>Genre</th>\n",
              "    </tr>\n",
              "  </thead>\n",
              "  <tbody>\n",
              "    <tr>\n",
              "      <th>0</th>\n",
              "      <td>10-Day Green Smoothie Cleanse</td>\n",
              "      <td>JJ Smith</td>\n",
              "      <td>4.7</td>\n",
              "      <td>17350</td>\n",
              "      <td>8</td>\n",
              "      <td>2016</td>\n",
              "      <td>Non Fiction</td>\n",
              "    </tr>\n",
              "    <tr>\n",
              "      <th>1</th>\n",
              "      <td>11/22/63: A Novel</td>\n",
              "      <td>Stephen King</td>\n",
              "      <td>4.6</td>\n",
              "      <td>2052</td>\n",
              "      <td>22</td>\n",
              "      <td>2011</td>\n",
              "      <td>Fiction</td>\n",
              "    </tr>\n",
              "    <tr>\n",
              "      <th>2</th>\n",
              "      <td>12 Rules for Life: An Antidote to Chaos</td>\n",
              "      <td>Jordan B. Peterson</td>\n",
              "      <td>4.7</td>\n",
              "      <td>18979</td>\n",
              "      <td>15</td>\n",
              "      <td>2018</td>\n",
              "      <td>Non Fiction</td>\n",
              "    </tr>\n",
              "    <tr>\n",
              "      <th>3</th>\n",
              "      <td>1984 (Signet Classics)</td>\n",
              "      <td>George Orwell</td>\n",
              "      <td>4.7</td>\n",
              "      <td>21424</td>\n",
              "      <td>6</td>\n",
              "      <td>2017</td>\n",
              "      <td>Fiction</td>\n",
              "    </tr>\n",
              "    <tr>\n",
              "      <th>4</th>\n",
              "      <td>5,000 Awesome Facts (About Everything!) (Natio...</td>\n",
              "      <td>National Geographic Kids</td>\n",
              "      <td>4.8</td>\n",
              "      <td>7665</td>\n",
              "      <td>12</td>\n",
              "      <td>2019</td>\n",
              "      <td>Non Fiction</td>\n",
              "    </tr>\n",
              "  </tbody>\n",
              "</table>\n",
              "</div>\n",
              "      <button class=\"colab-df-convert\" onclick=\"convertToInteractive('df-b2801d41-c334-4110-993a-2be017f19bc6')\"\n",
              "              title=\"Convert this dataframe to an interactive table.\"\n",
              "              style=\"display:none;\">\n",
              "        \n",
              "  <svg xmlns=\"http://www.w3.org/2000/svg\" height=\"24px\"viewBox=\"0 0 24 24\"\n",
              "       width=\"24px\">\n",
              "    <path d=\"M0 0h24v24H0V0z\" fill=\"none\"/>\n",
              "    <path d=\"M18.56 5.44l.94 2.06.94-2.06 2.06-.94-2.06-.94-.94-2.06-.94 2.06-2.06.94zm-11 1L8.5 8.5l.94-2.06 2.06-.94-2.06-.94L8.5 2.5l-.94 2.06-2.06.94zm10 10l.94 2.06.94-2.06 2.06-.94-2.06-.94-.94-2.06-.94 2.06-2.06.94z\"/><path d=\"M17.41 7.96l-1.37-1.37c-.4-.4-.92-.59-1.43-.59-.52 0-1.04.2-1.43.59L10.3 9.45l-7.72 7.72c-.78.78-.78 2.05 0 2.83L4 21.41c.39.39.9.59 1.41.59.51 0 1.02-.2 1.41-.59l7.78-7.78 2.81-2.81c.8-.78.8-2.07 0-2.86zM5.41 20L4 18.59l7.72-7.72 1.47 1.35L5.41 20z\"/>\n",
              "  </svg>\n",
              "      </button>\n",
              "      \n",
              "  <style>\n",
              "    .colab-df-container {\n",
              "      display:flex;\n",
              "      flex-wrap:wrap;\n",
              "      gap: 12px;\n",
              "    }\n",
              "\n",
              "    .colab-df-convert {\n",
              "      background-color: #E8F0FE;\n",
              "      border: none;\n",
              "      border-radius: 50%;\n",
              "      cursor: pointer;\n",
              "      display: none;\n",
              "      fill: #1967D2;\n",
              "      height: 32px;\n",
              "      padding: 0 0 0 0;\n",
              "      width: 32px;\n",
              "    }\n",
              "\n",
              "    .colab-df-convert:hover {\n",
              "      background-color: #E2EBFA;\n",
              "      box-shadow: 0px 1px 2px rgba(60, 64, 67, 0.3), 0px 1px 3px 1px rgba(60, 64, 67, 0.15);\n",
              "      fill: #174EA6;\n",
              "    }\n",
              "\n",
              "    [theme=dark] .colab-df-convert {\n",
              "      background-color: #3B4455;\n",
              "      fill: #D2E3FC;\n",
              "    }\n",
              "\n",
              "    [theme=dark] .colab-df-convert:hover {\n",
              "      background-color: #434B5C;\n",
              "      box-shadow: 0px 1px 3px 1px rgba(0, 0, 0, 0.15);\n",
              "      filter: drop-shadow(0px 1px 2px rgba(0, 0, 0, 0.3));\n",
              "      fill: #FFFFFF;\n",
              "    }\n",
              "  </style>\n",
              "\n",
              "      <script>\n",
              "        const buttonEl =\n",
              "          document.querySelector('#df-b2801d41-c334-4110-993a-2be017f19bc6 button.colab-df-convert');\n",
              "        buttonEl.style.display =\n",
              "          google.colab.kernel.accessAllowed ? 'block' : 'none';\n",
              "\n",
              "        async function convertToInteractive(key) {\n",
              "          const element = document.querySelector('#df-b2801d41-c334-4110-993a-2be017f19bc6');\n",
              "          const dataTable =\n",
              "            await google.colab.kernel.invokeFunction('convertToInteractive',\n",
              "                                                     [key], {});\n",
              "          if (!dataTable) return;\n",
              "\n",
              "          const docLinkHtml = 'Like what you see? Visit the ' +\n",
              "            '<a target=\"_blank\" href=https://colab.research.google.com/notebooks/data_table.ipynb>data table notebook</a>'\n",
              "            + ' to learn more about interactive tables.';\n",
              "          element.innerHTML = '';\n",
              "          dataTable['output_type'] = 'display_data';\n",
              "          await google.colab.output.renderOutput(dataTable, element);\n",
              "          const docLink = document.createElement('div');\n",
              "          docLink.innerHTML = docLinkHtml;\n",
              "          element.appendChild(docLink);\n",
              "        }\n",
              "      </script>\n",
              "    </div>\n",
              "  </div>\n",
              "  "
            ]
          },
          "metadata": {},
          "execution_count": 4
        }
      ]
    },
    {
      "cell_type": "code",
      "source": [
        "best_books.shape"
      ],
      "metadata": {
        "colab": {
          "base_uri": "https://localhost:8080/"
        },
        "id": "zKEo8qmgPdz0",
        "outputId": "0eddbfb1-7cd0-4100-9fd8-08bb8b8d8d01"
      },
      "execution_count": null,
      "outputs": [
        {
          "output_type": "execute_result",
          "data": {
            "text/plain": [
              "(550, 7)"
            ]
          },
          "metadata": {},
          "execution_count": 9
        }
      ]
    },
    {
      "cell_type": "code",
      "source": [
        "best_books.columns"
      ],
      "metadata": {
        "colab": {
          "base_uri": "https://localhost:8080/"
        },
        "id": "QMsEisWAPLk4",
        "outputId": "85d9385f-6988-41a7-b954-165279c83e80"
      },
      "execution_count": null,
      "outputs": [
        {
          "output_type": "execute_result",
          "data": {
            "text/plain": [
              "Index(['Name', 'Author', 'User Rating', 'Reviews', 'Price', 'Year', 'Genre'], dtype='object')"
            ]
          },
          "metadata": {},
          "execution_count": 5
        }
      ]
    },
    {
      "cell_type": "code",
      "source": [
        "best_books.describe()"
      ],
      "metadata": {
        "colab": {
          "base_uri": "https://localhost:8080/",
          "height": 300
        },
        "id": "4uz_th4JPSn3",
        "outputId": "720027b7-4329-4088-a13c-76da6cf0d719"
      },
      "execution_count": null,
      "outputs": [
        {
          "output_type": "execute_result",
          "data": {
            "text/plain": [
              "       User Rating       Reviews       Price         Year\n",
              "count   550.000000    550.000000  550.000000   550.000000\n",
              "mean      4.618364  11953.281818   13.100000  2014.000000\n",
              "std       0.226980  11731.132017   10.842262     3.165156\n",
              "min       3.300000     37.000000    0.000000  2009.000000\n",
              "25%       4.500000   4058.000000    7.000000  2011.000000\n",
              "50%       4.700000   8580.000000   11.000000  2014.000000\n",
              "75%       4.800000  17253.250000   16.000000  2017.000000\n",
              "max       4.900000  87841.000000  105.000000  2019.000000"
            ],
            "text/html": [
              "\n",
              "  <div id=\"df-eac1494b-3a06-4457-8ef6-a28b90782141\">\n",
              "    <div class=\"colab-df-container\">\n",
              "      <div>\n",
              "<style scoped>\n",
              "    .dataframe tbody tr th:only-of-type {\n",
              "        vertical-align: middle;\n",
              "    }\n",
              "\n",
              "    .dataframe tbody tr th {\n",
              "        vertical-align: top;\n",
              "    }\n",
              "\n",
              "    .dataframe thead th {\n",
              "        text-align: right;\n",
              "    }\n",
              "</style>\n",
              "<table border=\"1\" class=\"dataframe\">\n",
              "  <thead>\n",
              "    <tr style=\"text-align: right;\">\n",
              "      <th></th>\n",
              "      <th>User Rating</th>\n",
              "      <th>Reviews</th>\n",
              "      <th>Price</th>\n",
              "      <th>Year</th>\n",
              "    </tr>\n",
              "  </thead>\n",
              "  <tbody>\n",
              "    <tr>\n",
              "      <th>count</th>\n",
              "      <td>550.000000</td>\n",
              "      <td>550.000000</td>\n",
              "      <td>550.000000</td>\n",
              "      <td>550.000000</td>\n",
              "    </tr>\n",
              "    <tr>\n",
              "      <th>mean</th>\n",
              "      <td>4.618364</td>\n",
              "      <td>11953.281818</td>\n",
              "      <td>13.100000</td>\n",
              "      <td>2014.000000</td>\n",
              "    </tr>\n",
              "    <tr>\n",
              "      <th>std</th>\n",
              "      <td>0.226980</td>\n",
              "      <td>11731.132017</td>\n",
              "      <td>10.842262</td>\n",
              "      <td>3.165156</td>\n",
              "    </tr>\n",
              "    <tr>\n",
              "      <th>min</th>\n",
              "      <td>3.300000</td>\n",
              "      <td>37.000000</td>\n",
              "      <td>0.000000</td>\n",
              "      <td>2009.000000</td>\n",
              "    </tr>\n",
              "    <tr>\n",
              "      <th>25%</th>\n",
              "      <td>4.500000</td>\n",
              "      <td>4058.000000</td>\n",
              "      <td>7.000000</td>\n",
              "      <td>2011.000000</td>\n",
              "    </tr>\n",
              "    <tr>\n",
              "      <th>50%</th>\n",
              "      <td>4.700000</td>\n",
              "      <td>8580.000000</td>\n",
              "      <td>11.000000</td>\n",
              "      <td>2014.000000</td>\n",
              "    </tr>\n",
              "    <tr>\n",
              "      <th>75%</th>\n",
              "      <td>4.800000</td>\n",
              "      <td>17253.250000</td>\n",
              "      <td>16.000000</td>\n",
              "      <td>2017.000000</td>\n",
              "    </tr>\n",
              "    <tr>\n",
              "      <th>max</th>\n",
              "      <td>4.900000</td>\n",
              "      <td>87841.000000</td>\n",
              "      <td>105.000000</td>\n",
              "      <td>2019.000000</td>\n",
              "    </tr>\n",
              "  </tbody>\n",
              "</table>\n",
              "</div>\n",
              "      <button class=\"colab-df-convert\" onclick=\"convertToInteractive('df-eac1494b-3a06-4457-8ef6-a28b90782141')\"\n",
              "              title=\"Convert this dataframe to an interactive table.\"\n",
              "              style=\"display:none;\">\n",
              "        \n",
              "  <svg xmlns=\"http://www.w3.org/2000/svg\" height=\"24px\"viewBox=\"0 0 24 24\"\n",
              "       width=\"24px\">\n",
              "    <path d=\"M0 0h24v24H0V0z\" fill=\"none\"/>\n",
              "    <path d=\"M18.56 5.44l.94 2.06.94-2.06 2.06-.94-2.06-.94-.94-2.06-.94 2.06-2.06.94zm-11 1L8.5 8.5l.94-2.06 2.06-.94-2.06-.94L8.5 2.5l-.94 2.06-2.06.94zm10 10l.94 2.06.94-2.06 2.06-.94-2.06-.94-.94-2.06-.94 2.06-2.06.94z\"/><path d=\"M17.41 7.96l-1.37-1.37c-.4-.4-.92-.59-1.43-.59-.52 0-1.04.2-1.43.59L10.3 9.45l-7.72 7.72c-.78.78-.78 2.05 0 2.83L4 21.41c.39.39.9.59 1.41.59.51 0 1.02-.2 1.41-.59l7.78-7.78 2.81-2.81c.8-.78.8-2.07 0-2.86zM5.41 20L4 18.59l7.72-7.72 1.47 1.35L5.41 20z\"/>\n",
              "  </svg>\n",
              "      </button>\n",
              "      \n",
              "  <style>\n",
              "    .colab-df-container {\n",
              "      display:flex;\n",
              "      flex-wrap:wrap;\n",
              "      gap: 12px;\n",
              "    }\n",
              "\n",
              "    .colab-df-convert {\n",
              "      background-color: #E8F0FE;\n",
              "      border: none;\n",
              "      border-radius: 50%;\n",
              "      cursor: pointer;\n",
              "      display: none;\n",
              "      fill: #1967D2;\n",
              "      height: 32px;\n",
              "      padding: 0 0 0 0;\n",
              "      width: 32px;\n",
              "    }\n",
              "\n",
              "    .colab-df-convert:hover {\n",
              "      background-color: #E2EBFA;\n",
              "      box-shadow: 0px 1px 2px rgba(60, 64, 67, 0.3), 0px 1px 3px 1px rgba(60, 64, 67, 0.15);\n",
              "      fill: #174EA6;\n",
              "    }\n",
              "\n",
              "    [theme=dark] .colab-df-convert {\n",
              "      background-color: #3B4455;\n",
              "      fill: #D2E3FC;\n",
              "    }\n",
              "\n",
              "    [theme=dark] .colab-df-convert:hover {\n",
              "      background-color: #434B5C;\n",
              "      box-shadow: 0px 1px 3px 1px rgba(0, 0, 0, 0.15);\n",
              "      filter: drop-shadow(0px 1px 2px rgba(0, 0, 0, 0.3));\n",
              "      fill: #FFFFFF;\n",
              "    }\n",
              "  </style>\n",
              "\n",
              "      <script>\n",
              "        const buttonEl =\n",
              "          document.querySelector('#df-eac1494b-3a06-4457-8ef6-a28b90782141 button.colab-df-convert');\n",
              "        buttonEl.style.display =\n",
              "          google.colab.kernel.accessAllowed ? 'block' : 'none';\n",
              "\n",
              "        async function convertToInteractive(key) {\n",
              "          const element = document.querySelector('#df-eac1494b-3a06-4457-8ef6-a28b90782141');\n",
              "          const dataTable =\n",
              "            await google.colab.kernel.invokeFunction('convertToInteractive',\n",
              "                                                     [key], {});\n",
              "          if (!dataTable) return;\n",
              "\n",
              "          const docLinkHtml = 'Like what you see? Visit the ' +\n",
              "            '<a target=\"_blank\" href=https://colab.research.google.com/notebooks/data_table.ipynb>data table notebook</a>'\n",
              "            + ' to learn more about interactive tables.';\n",
              "          element.innerHTML = '';\n",
              "          dataTable['output_type'] = 'display_data';\n",
              "          await google.colab.output.renderOutput(dataTable, element);\n",
              "          const docLink = document.createElement('div');\n",
              "          docLink.innerHTML = docLinkHtml;\n",
              "          element.appendChild(docLink);\n",
              "        }\n",
              "      </script>\n",
              "    </div>\n",
              "  </div>\n",
              "  "
            ]
          },
          "metadata": {},
          "execution_count": 8
        }
      ]
    },
    {
      "cell_type": "code",
      "source": [
        "best_books.info() #check nan values"
      ],
      "metadata": {
        "colab": {
          "base_uri": "https://localhost:8080/"
        },
        "id": "tZni7TVoPTV9",
        "outputId": "290e22ae-5af7-4ee5-b33e-c3f39813ed68"
      },
      "execution_count": null,
      "outputs": [
        {
          "output_type": "stream",
          "name": "stdout",
          "text": [
            "<class 'pandas.core.frame.DataFrame'>\n",
            "RangeIndex: 550 entries, 0 to 549\n",
            "Data columns (total 7 columns):\n",
            " #   Column       Non-Null Count  Dtype  \n",
            "---  ------       --------------  -----  \n",
            " 0   Name         550 non-null    object \n",
            " 1   Author       550 non-null    object \n",
            " 2   User Rating  550 non-null    float64\n",
            " 3   Reviews      550 non-null    int64  \n",
            " 4   Price        550 non-null    int64  \n",
            " 5   Year         550 non-null    int64  \n",
            " 6   Genre        550 non-null    object \n",
            "dtypes: float64(1), int64(3), object(3)\n",
            "memory usage: 30.2+ KB\n"
          ]
        }
      ]
    },
    {
      "cell_type": "code",
      "source": [
        "#BarGraph of missing values for clearer visualisation\n",
        "null = best_books.isnull().sum()\n",
        "\n",
        "from matplotlib import pyplot as plt\n",
        "\n",
        "plt.figure(figsize=(20,10))\n",
        "plt.bar(range(len(null)),null)\n",
        "plt.xlabel('Features')\n",
        "plt.ylabel('missing')\n",
        "plt.xticks(list(range(len(best_books.columns))), list(best_books.columns.values), rotation='vertical')\n",
        "plt.show\n",
        "\n",
        "print(null)"
      ],
      "metadata": {
        "colab": {
          "base_uri": "https://localhost:8080/",
          "height": 793
        },
        "id": "x-H892KSQPRk",
        "outputId": "743e9b00-0eb7-4ed7-dab6-7ebd86bdb4d8"
      },
      "execution_count": null,
      "outputs": [
        {
          "output_type": "stream",
          "name": "stdout",
          "text": [
            "Name           0\n",
            "Author         0\n",
            "User Rating    0\n",
            "Reviews        0\n",
            "Price          0\n",
            "Year           0\n",
            "Genre          0\n",
            "dtype: int64\n"
          ]
        },
        {
          "output_type": "display_data",
          "data": {
            "text/plain": [
              "<Figure size 1440x720 with 1 Axes>"
            ],
            "image/png": "[encoded data removed]"
          },
          "metadata": {
            "needs_background": "light"
          }
        }
      ]
    },
    {
      "cell_type": "code",
      "source": [
        "# Change the data type\n",
        "best_books.Genre = best_books.Genre.astype('category')"
      ],
      "metadata": {
        "id": "aNX916irQgbu"
      },
      "execution_count": null,
      "outputs": []
    },
    {
      "cell_type": "code",
      "source": [
        "from scipy.stats import ttest_1samp\n",
        "user_rating_mean = np.mean(best_books['User Rating'])\n",
        "print(user_rating_mean)"
      ],
      "metadata": {
        "colab": {
          "base_uri": "https://localhost:8080/"
        },
        "id": "c-kJJ2yrRsQO",
        "outputId": "02f608eb-58c2-4347-e950-349d6254e042"
      },
      "execution_count": null,
      "outputs": [
        {
          "output_type": "stream",
          "name": "stdout",
          "text": [
            "4.618363636363641\n"
          ]
        }
      ]
    },
    {
      "cell_type": "code",
      "source": [
        "sample = best_books['User Rating'].sample(n=100)\n",
        "tset, pval = ttest_1samp(sample, user_rating_mean)\n",
        "print(pval)"
      ],
      "metadata": {
        "colab": {
          "base_uri": "https://localhost:8080/"
        },
        "id": "ptZe0v-AXTvW",
        "outputId": "734e4ee3-f2ea-42b3-fa6e-982da1ac352e"
      },
      "execution_count": null,
      "outputs": [
        {
          "output_type": "stream",
          "name": "stdout",
          "text": [
            "0.1931554572514861\n"
          ]
        }
      ]
    },
    {
      "cell_type": "code",
      "source": [
        "if pval < 0.05:    # alpha value is 0.05 or 5%\n",
        "   print(\" we are rejecting null hypothesis\")\n",
        "else:\n",
        "  print(\"we are accepting null hypothesis\")"
      ],
      "metadata": {
        "colab": {
          "base_uri": "https://localhost:8080/"
        },
        "id": "322vR-pGYYbr",
        "outputId": "5269e1a2-de37-4752-b7d3-2c5955587b33"
      },
      "execution_count": null,
      "outputs": [
        {
          "output_type": "stream",
          "name": "stdout",
          "text": [
            "we are accepting null hypothesis\n"
          ]
        }
      ]
    },
    {
      "cell_type": "code",
      "source": [
        "# Create distplot with curve_type set to 'normal'\n",
        "fig_10 = ff.create_distplot([sample], \n",
        "                         ['User Rating'], \n",
        "                         colors=['salmon'],\n",
        "                         bin_size=.1, \n",
        "                         show_rug=False)\n",
        "\n",
        "# Add title\n",
        "fig_10.update_layout(title_text='Distribution Of User Rating', \n",
        "                     template='simple_white',\n",
        "                     font=dict(family='Arial', size=12, color='black'))\n",
        "fig_10.show()"
      ],
      "metadata": {
        "colab": {
          "base_uri": "https://localhost:8080/",
          "height": 542
        },
        "id": "KMW_ZC4WbCsQ",
        "outputId": "8a1eb7fb-d69d-483a-a001-66558b4f941f"
      },
      "execution_count": null,
      "outputs": [
        {
          "output_type": "display_data",
          "data": {
            "text/html": [
              "<html>\n",
              "<head><meta charset=\"utf-8\" /></head>\n",
              "<body>\n",
              "    <div>            <script src=\"https://cdnjs.cloudflare.com/ajax/libs/mathjax/2.7.5/MathJax.js?config=TeX-AMS-MML_SVG\"></script><script type=\"text/javascript\">if (window.MathJax) {MathJax.Hub.Config({SVG: {font: \"STIX-Web\"}});}</script>                <script type=\"text/javascript\">window.PlotlyConfig = {MathJaxConfig: 'local'};</script>\n",
              "        <script src=\"https://cdn.plot.ly/plotly-2.8.3.min.js\"></script>                <div id=\"074d26da-3539-4f62-81f4-bc960475a265\" class=\"plotly-graph-div\" style=\"height:525px; width:100%;\"></div>            <script type=\"text/javascript\">                                    window.PLOTLYENV=window.PLOTLYENV || {};                                    if (document.getElementById(\"074d26da-3539-4f62-81f4-bc960475a265\")) {                    Plotly.newPlot(                        \"074d26da-3539-4f62-81f4-bc960475a265\",                        [{\"autobinx\":false,\"histnorm\":\"probability density\",\"legendgroup\":\"User Rating\",\"marker\":{\"color\":\"salmon\"},\"name\":\"User Rating\",\"opacity\":0.7,\"x\":[4.9,4.0,4.8,4.9,4.8,4.3,4.8,4.2,4.4,4.6,4.6,4.9,4.7,4.7,4.9,4.6,4.7,4.7,4.4,4.6,4.8,4.8,4.3,4.4,4.5,4.7,4.8,4.7,4.0,4.8,4.2,4.6,4.6,4.7,4.6,4.9,4.8,4.0,4.6,4.5,4.4,4.7,4.4,4.7,4.6,4.7,4.4,4.6,4.7,4.5,4.0,4.7,4.8,4.7,4.8,4.8,4.5,4.8,4.8,3.9,4.6,4.6,4.5,4.7,4.6,4.3,4.5,4.3,3.9,4.7,4.7,4.5,4.1,4.8,4.6,4.4,4.8,4.6,4.8,4.8,4.3,4.7,4.6,4.6,4.8,4.3,4.0,4.5,4.8,4.8,4.6,4.8,4.7,4.9,4.8,4.7,4.9,4.3,4.7,4.7],\"xaxis\":\"x\",\"xbins\":{\"end\":4.9,\"size\":0.1,\"start\":3.9},\"yaxis\":\"y\",\"type\":\"histogram\"},{\"legendgroup\":\"User Rating\",\"marker\":{\"color\":\"salmon\"},\"mode\":\"lines\",\"name\":\"User Rating\",\"showlegend\":false,\"x\":[3.9,3.9019999999999997,3.904,3.9059999999999997,3.908,3.9099999999999997,3.912,3.9139999999999997,3.916,3.9179999999999997,3.92,3.9219999999999997,3.924,3.9259999999999997,3.928,3.9299999999999997,3.932,3.9339999999999997,3.936,3.9379999999999997,3.94,3.9419999999999997,3.944,3.9459999999999997,3.948,3.9499999999999997,3.952,3.9539999999999997,3.956,3.9579999999999997,3.96,3.9619999999999997,3.964,3.9659999999999997,3.968,3.9699999999999998,3.972,3.9739999999999998,3.976,3.9779999999999998,3.98,3.9819999999999998,3.984,3.9859999999999998,3.988,3.9899999999999998,3.992,3.9939999999999998,3.996,3.9979999999999998,4.0,4.002,4.004,4.006,4.008,4.01,4.012,4.014,4.016,4.018,4.02,4.022,4.024,4.026,4.028,4.03,4.032,4.034,4.036,4.038,4.04,4.042,4.044,4.046,4.048,4.05,4.052,4.054,4.056,4.058,4.06,4.062,4.064,4.066,4.068,4.07,4.072,4.074,4.076,4.078,4.08,4.082,4.084,4.086,4.088,4.09,4.092,4.094,4.096,4.098,4.1,4.102,4.104,4.106,4.108,4.11,4.112,4.114,4.116,4.118,4.12,4.122,4.124,4.126,4.128,4.13,4.132,4.134,4.136,4.138,4.14,4.142,4.144,4.146,4.148,4.15,4.152,4.154,4.156,4.158,4.16,4.162,4.164,4.166,4.168,4.17,4.172,4.174,4.176,4.178,4.18,4.182,4.184,4.186,4.188,4.19,4.192,4.194,4.196,4.198,4.2,4.202,4.204,4.206,4.208,4.21,4.212,4.214,4.216,4.218,4.22,4.222,4.224,4.226,4.228,4.23,4.232,4.234,4.236,4.238,4.24,4.242,4.244,4.246,4.248,4.25,4.252,4.2540000000000004,4.256,4.258,4.26,4.2620000000000005,4.264,4.266,4.268,4.2700000000000005,4.272,4.274,4.276,4.2780000000000005,4.28,4.282,4.284,4.2860000000000005,4.288,4.29,4.292,4.2940000000000005,4.296,4.298,4.3,4.3020000000000005,4.304,4.306,4.308,4.3100000000000005,4.312,4.314,4.316,4.318,4.32,4.322,4.324,4.3260000000000005,4.328,4.33,4.332,4.334,4.336,4.338,4.34,4.3420000000000005,4.344,4.346,4.348,4.3500000000000005,4.352,4.354,4.356,4.3580000000000005,4.36,4.362,4.364,4.3660000000000005,4.368,4.37,4.372,4.3740000000000006,4.376,4.378,4.38,4.382,4.384,4.386,4.388,4.390000000000001,4.392,4.394,4.396,4.398,4.4,4.402,4.404,4.406000000000001,4.408,4.41,4.412,4.414,4.416,4.418,4.42,4.422000000000001,4.424,4.426,4.428,4.43,4.432,4.434,4.436,4.438000000000001,4.44,4.442,4.444,4.446,4.448,4.45,4.452,4.454000000000001,4.456,4.458,4.46,4.462,4.464,4.466,4.468,4.47,4.472,4.474,4.476,4.478,4.48,4.482,4.484,4.486,4.488,4.49,4.492,4.494,4.496,4.498,4.5,4.502,4.5040000000000004,4.506,4.508,4.51,4.5120000000000005,4.514,4.516,4.518,4.5200000000000005,4.522,4.524,4.526,4.5280000000000005,4.53,4.532,4.534,4.5360000000000005,4.538,4.54,4.542,4.5440000000000005,4.546,4.548,4.550000000000001,4.5520000000000005,4.554,4.556,4.558,4.5600000000000005,4.562,4.564,4.566000000000001,4.5680000000000005,4.57,4.572,4.574,4.5760000000000005,4.578,4.58,4.582000000000001,4.5840000000000005,4.586,4.588,4.59,4.5920000000000005,4.594,4.596,4.598,4.6000000000000005,4.602,4.604,4.606,4.6080000000000005,4.61,4.612,4.614,4.6160000000000005,4.618,4.62,4.622,4.6240000000000006,4.626,4.628,4.63,4.632000000000001,4.634,4.636,4.638,4.640000000000001,4.642,4.644,4.646,4.648000000000001,4.65,4.652,4.654,4.656000000000001,4.658,4.66,4.662,4.664000000000001,4.666,4.668,4.67,4.672000000000001,4.674,4.676,4.678,4.680000000000001,4.682,4.684,4.686,4.688000000000001,4.69,4.692,4.694,4.696000000000001,4.698,4.7,4.702,4.704000000000001,4.706,4.708,4.71,4.712000000000001,4.714,4.716,4.718,4.720000000000001,4.722,4.724,4.726,4.728,4.73,4.732,4.734,4.736000000000001,4.738,4.74,4.742,4.744,4.746,4.748,4.75,4.752000000000001,4.7540000000000004,4.756,4.758,4.76,4.7620000000000005,4.764,4.766,4.768000000000001,4.7700000000000005,4.772,4.774,4.776,4.7780000000000005,4.78,4.782,4.784000000000001,4.7860000000000005,4.788,4.79,4.792,4.7940000000000005,4.796,4.798,4.800000000000001,4.8020000000000005,4.804,4.806,4.808000000000001,4.8100000000000005,4.812,4.814,4.816000000000001,4.8180000000000005,4.82,4.822,4.824000000000001,4.8260000000000005,4.828,4.83,4.832000000000001,4.8340000000000005,4.836,4.838,4.840000000000001,4.8420000000000005,4.844,4.846,4.848000000000001,4.8500000000000005,4.852,4.854,4.856,4.8580000000000005,4.86,4.862,4.864000000000001,4.8660000000000005,4.868,4.87,4.872,4.8740000000000006,4.876,4.878,4.880000000000001,4.882000000000001,4.884,4.886,4.888,4.890000000000001,4.892,4.894,4.896000000000001,4.898000000000001],\"xaxis\":\"x\",\"y\":[0.20806361362001471,0.2108199969761781,0.21355253353577403,0.21625945126699628,0.21893898294079325,0.22158936856895065,0.2242088578848732,0.22679571286354358,0.22934821027696176,0.23186464428116457,0.23434332903075555,0.2367826013166688,0.23918082322273715,0.24153638479645523,0.24384770672917236,0.246113243040788,0.24833148376390488,0.2505009576222343,0.25262023469795625,0.25468792908259863,0.2567027015059475,0.25866326193736905,0.26056837215390494,0.26241684826941647,0.2642075632190417,0.26593944919318296,0.26761150001527634,0.26922277345756923,0.27077239348919213,0.27225955245084665,0.2736835131505029,0.27504361087457546,0.27633925530917214,0.27756993236610217,0.2787352059084953,0.27983471937101456,0.28086819726985396,0.2818354465978606,0.28273635810037756,0.28357090742758034,0.28433915615936384,0.28504125269905434,0.28567743303252857,0.2862480213495641,0.2867534305245849,0.2871941624542385,0.28757080824957987,0.28788404828095515,0.2881346520740346,0.28832347805575576,0.28845147314932634,0.2885196722177645,0.2885291973558293,0.2884812570305534,0.2883771450709545,0.28821823950786163,0.2880060012651654,0.28774197270415647,0.2874277760229635,0.2870651115134837,0.28665575567849516,0.2862015592120377,0.2857044448464238,0.2851664050695925,0.28458949971682024,0.2839758534410918,0.2833276530667284,0.28264714483112124,0.28193663151970244,0.2811984694994881,0.2804350656567804,0.2796488742448049,0.2788423936472478,0.2780181630638369,0.27717875912424944,0.27632679243676816,0.275464904078221,0.2745957620318349,0.27372205757970647,0.2728465016566421,0.27197182117217866,0.27110075530758276,0.2702360517946642,0.2693804631831743,0.26853674310357445,0.26770764253186274,0.2668959060631078,0.2661042682002273,0.26533544966447875,0.26459215373397227,0.26387706261643296,0.263192833862248,0.2625420968237276,0.26192744916629906,0.2613514534372119,0.2608166336971194,0.26032547221972785,0.25988040626448533,0.2594838249271012,0.25913806607242684,0.2588454133540745,0.2586080933248645,0.25842827264201484,0.2583080553707366,0.2582494803896791,0.2582545189014434,0.25832507205114574,0.25846296865580903,0.25866996304710654,0.25894773302980384,0.25929787795796644,0.2597219169308711,0.26022128711026227,0.26079734216045863,0.26145135081257653,0.2621844955539671,0.2629978714437579,0.2638924850552177,0.2648692535454935,0.2659290038530786,0.2670724720232287,0.26830030266137256,0.2696130485144159,0.2710111701796848,0.2724950359411319,0.27406492173226715,0.27572101122516385,0.27746339604477366,0.27929207610762796,0.2812069600839327,0.2832078659819034,0.28529452185313736,0.2874665666176449,0.2897235510071135,0.2920649386248588,0.2944901071208051,0.2969983494797718,0.29958887542119905,0.3022608129084187,0.30501320976539986,0.3078450353988912,0.31075518262370383,0.3137424695888513,0.3168056418021478,0.3199433742507298,0.32315427361495397,0.3264368805729302,0.32978967219294897,0.333211064410877,0.3366994145895432,0.3402530241570455,0.3438701413207693,0.34754896385383893,0.3512876419506027,0.35508428114767465,0.3589369453069231,0.36284365965672744,0.3668024138876977,0.37081116529895575,0.37486784199104306,0.37897034610128044,0.3831165570775038,0.3873043349858236,0.3915315238481446,0.3957959550049329,0.40009545049878464,0.4044278264741928,0.4087908965888654,0.41318247543191283,0.41760038194410687,0.4220424428354539,0.42650649599520357,0.4309903938894479,0.4354920069413811,0.44000922688932775,0.44453997011764695,0.4490821809555378,0.45363383493891596,0.45819294203042243,0.46275754979278355,0.46732574651066605,0.4718956642563048,0.47646548189422716,0.48103342802044075,0.4855977838315778,0.4901568859195282,0.4947091289872608,0.49925296848159445,0.5037869231388157,0.5083095774391728,0.5128195839664025,0.517315665668641,0.5217966180171169,0.5262613110593306,0.5307086913634305,0.5351377838508455,0.5395476935142423,0.5439376070181737,0.5483067941799473,0.5526546093283974,0.5569804925384995,0.5612839707399011,0.5655646586976973,0.5698222598639492,0.574056567098656,0.5782674632590825,0.5824549216565535,0.5866190063800585,0.5907598724861135,0.594877766054657,0.5989730241108217,0.6030460744127115,0.6070974351054531,0.6111277142419719,0.6151376091711441,0.6191279057941532,0.6230994776900098,0.627053285111411,0.6309903738522511,0.634911873988217,0.6388189984921554,0.6427130417258977,0.6465953778104769,0.6504674588768138,0.6543308131989419,0.6581870432121648,0.6620378234184636,0.6658848981817603,0.6697300794155998,0.6735752441660274,0.6774223320925091,0.6812733428498213,0.685130333373951,0.6889954150751357,0.692870750941282,0.6967585525550412,0.7006610770279789,0.7045806238552813,0.7085195316945753,0.7124801750725457,0.7164649610230092,0.7204763256603287,0.7245167306920172,0.7285886598745024,0.7326946154161654,0.7368371143316975,0.7410186847520901,0.7452418621944942,0.7495091857963734,0.7538231945183816,0.7581864233205726,0.7626013993165099,0.7670706379100527,0.7715966389195918,0.7761818826945951,0.7808288262294997,0.7855398992798882,0.7903175004861763,0.7951639935099155,0.8000817031880171,0.8050729117102515,0.8101398548253617,0.8152847180812818,0.820509633104963,0.8258166739273574,0.8312078533591319,0.8366851194227642,0.8422503518466294,0.8479053586267915,0.853651872662085,0.8594915484681829,0.865425958976305,0.8714565924220946,0.8775848493302998,0.8838120396006921,0.8901393797006646,0.8965679899698805,0.9030988920421353,0.9097330063895838,0.9164711499943353,0.9233140341521568,0.9302622624130197,0.9373163286629317,0.9444766153512585,0.9517433918677063,0.9591168130726409,0.9665969179843474,0.9741836286265344,0.9818767490390246,0.9896759644543516,0.9975808406426107,1.005590823426584,1.0137052383688887,1.0219232906323856,1.030244065014853,1.038666526158444,1.0471895189341889,1.0558117690011588,1.0645318835398063,1.073348352158241,1.0822595479701513,1.0912637288422544,1.1003590388090514,1.1095435096520907,1.118815062640487,1.1281715104291274,1.1376105591104537,1.1471298104153655,1.1567267640584264,1.1663988202219988,1.1761432821737303,1.1859573590112729,1.195838168527982,1.2057827401926606,1.2157880182364909,1.2258508648395992,1.2359680634097925,1.2461363219453732,1.2563522764740096,1.2666124945592416,1.27691347886609,1.2872516707770478,1.29762345404962,1.308025158506453,1.3184530637490766,1.3289034028861633,1.3393723662672092,1.3498561052127147,1.3603507357316849,1.3708523422176828,1.3813569811146071,1.3918606845434531,1.4023594638817676,1.4128493132873396,1.4233262131582105,1.433786133521298,1.4442250373420331,1.4546388837480244,1.4650236311598832,1.475375240322857,1.4856896772332637,1.4959629159541552,1.5061909413150567,1.5163697514912016,1.5264953604580123,1.5365638003171584,1.5465711234911046,1.5565134047834042,1.5663867433027678,1.5761872642492456,1.5859111205615763,1.5955544944252726,1.6051135986415332,1.6145846778576534,1.6239640096601735,1.633247905532537,1.642432711679579,1.6515148097217278,1.6604906172622445,1.6693565883314405,1.6781092137122806,1.6867450211521697,1.6952605754663437,1.7036524785385254,1.711917369225191,1.720051923169875,1.728052852534542,1.735916905655342,1.7436408666303083,1.7512215548469379,1.7586558244577155,1.7659405638120902,1.7730726948532967,1.78004917248888,1.7868669839436446,1.7935231481039657,1.8000147148625283,1.8063387644722828,1.8124924069187927,1.8184727813196604,1.824277055360061,1.8299024247728402,1.8353461128718795,1.84060537014689,1.845677473927856,1.8505597281268222,1.855249463064582,1.859744035389493,1.864040828095143,1.8681372506433778,1.8720307391986253,1.8757187569790967,1.8791987947299773,1.8824683713230905,1.8855250344872228,1.8883663616724864,1.8909899610518097,1.893393472661824,1.895574569685007,1.8975309598742325,1.8992603871202804,1.9007606331622924,1.9020295194404384,1.9030649090894844,1.9038647090713294,1.9044268724438471,1.9047494007628942,1.9048303466135383,1.9046678162660835,1.9042599724518072,1.9036050372526567,1.9027012950987399,1.9015470958666856,1.9001408580715098,1.898481072144144,1.8965663037860916,1.8943951973924564,1.8919664795338864,1.8892789624877797,1.8863315478085054,1.8831232299262246,1.8796530997634264,1.875920348358093,1.8719242704821555,1.8676642682436202,1.8631398546607003,1.8583506571960267,1.853296421239049,1.8479770135245541,1.8423924254754156,1.8365427764575055,1.8304283169349702,1.824049431514137,1.8174066418644024,1.810500609504848,1.8033321384454004,1.7959021776717867,1.788211823463772,1.7802623215366342,1.7720550689961714,1.7635916160980443,1.754873667802688,1.7459030851175872,1.7366818862193256,1.7272122473482092,1.7174965034690748,1.7075371486924762,1.697336836450978,1.6868983794261903,1.6762247492226021,1.6653190757852894,1.6541846465590033,1.6428249053870918,1.631243451149339,1.6194440361386173,1.607430564176972,1.5952070884723693,1.5827778092184508,1.5701470709398673,1.5573193595869717,1.5442992993839426,1.5310916494354672,1.517701300097559,1.5041332691187892,1.4903926975588946,1.476484845492308,1.462415087504751,1.448188907991522,1.43381189626671,1.419289741493013,1.4046282274422965,1.3898332270974916,1.3749106971066198,1.3598666721004529,1.3447072588851323,1.3294386305218275,1.3140670203052345,1.2985987156533876,1.2830400519210383,1.2673974061490303,1.2516771907623823,1.235885847229357,1.2200298396943388,1.2041156485967266,1.1881497642883727,1.1721386806616747,1.1560888888004766,1.140006870665549,1.1238990928262593,1.1077720002497917,1.0916320101589048,1.0754855059690165,1.0593388313147774,1.0431982841763145,1.027070111114569,1.0109605016248662,0.9948755826175385,0.9788214130336386,0.962803978603772,0.9468291867571217],\"yaxis\":\"y\",\"type\":\"scatter\"}],                        {\"barmode\":\"overlay\",\"hovermode\":\"closest\",\"legend\":{\"traceorder\":\"reversed\"},\"xaxis\":{\"anchor\":\"y2\",\"domain\":[0.0,1.0],\"zeroline\":false},\"yaxis\":{\"anchor\":\"free\",\"domain\":[0.0,1],\"position\":0.0},\"template\":{\"data\":{\"barpolar\":[{\"marker\":{\"line\":{\"color\":\"white\",\"width\":0.5},\"pattern\":{\"fillmode\":\"overlay\",\"size\":10,\"solidity\":0.2}},\"type\":\"barpolar\"}],\"bar\":[{\"error_x\":{\"color\":\"rgb(36,36,36)\"},\"error_y\":{\"color\":\"rgb(36,36,36)\"},\"marker\":{\"line\":{\"color\":\"white\",\"width\":0.5},\"pattern\":{\"fillmode\":\"overlay\",\"size\":10,\"solidity\":0.2}},\"type\":\"bar\"}],\"carpet\":[{\"aaxis\":{\"endlinecolor\":\"rgb(36,36,36)\",\"gridcolor\":\"white\",\"linecolor\":\"white\",\"minorgridcolor\":\"white\",\"startlinecolor\":\"rgb(36,36,36)\"},\"baxis\":{\"endlinecolor\":\"rgb(36,36,36)\",\"gridcolor\":\"white\",\"linecolor\":\"white\",\"minorgridcolor\":\"white\",\"startlinecolor\":\"rgb(36,36,36)\"},\"type\":\"carpet\"}],\"choropleth\":[{\"colorbar\":{\"outlinewidth\":1,\"tickcolor\":\"rgb(36,36,36)\",\"ticks\":\"outside\"},\"type\":\"choropleth\"}],\"contourcarpet\":[{\"colorbar\":{\"outlinewidth\":1,\"tickcolor\":\"rgb(36,36,36)\",\"ticks\":\"outside\"},\"type\":\"contourcarpet\"}],\"contour\":[{\"colorbar\":{\"outlinewidth\":1,\"tickcolor\":\"rgb(36,36,36)\",\"ticks\":\"outside\"},\"colorscale\":[[0.0,\"#440154\"],[0.1111111111111111,\"#482878\"],[0.2222222222222222,\"#3e4989\"],[0.3333333333333333,\"#31688e\"],[0.4444444444444444,\"#26828e\"],[0.5555555555555556,\"#1f9e89\"],[0.6666666666666666,\"#35b779\"],[0.7777777777777778,\"#6ece58\"],[0.8888888888888888,\"#b5de2b\"],[1.0,\"#fde725\"]],\"type\":\"contour\"}],\"heatmapgl\":[{\"colorbar\":{\"outlinewidth\":1,\"tickcolor\":\"rgb(36,36,36)\",\"ticks\":\"outside\"},\"colorscale\":[[0.0,\"#440154\"],[0.1111111111111111,\"#482878\"],[0.2222222222222222,\"#3e4989\"],[0.3333333333333333,\"#31688e\"],[0.4444444444444444,\"#26828e\"],[0.5555555555555556,\"#1f9e89\"],[0.6666666666666666,\"#35b779\"],[0.7777777777777778,\"#6ece58\"],[0.8888888888888888,\"#b5de2b\"],[1.0,\"#fde725\"]],\"type\":\"heatmapgl\"}],\"heatmap\":[{\"colorbar\":{\"outlinewidth\":1,\"tickcolor\":\"rgb(36,36,36)\",\"ticks\":\"outside\"},\"colorscale\":[[0.0,\"#440154\"],[0.1111111111111111,\"#482878\"],[0.2222222222222222,\"#3e4989\"],[0.3333333333333333,\"#31688e\"],[0.4444444444444444,\"#26828e\"],[0.5555555555555556,\"#1f9e89\"],[0.6666666666666666,\"#35b779\"],[0.7777777777777778,\"#6ece58\"],[0.8888888888888888,\"#b5de2b\"],[1.0,\"#fde725\"]],\"type\":\"heatmap\"}],\"histogram2dcontour\":[{\"colorbar\":{\"outlinewidth\":1,\"tickcolor\":\"rgb(36,36,36)\",\"ticks\":\"outside\"},\"colorscale\":[[0.0,\"#440154\"],[0.1111111111111111,\"#482878\"],[0.2222222222222222,\"#3e4989\"],[0.3333333333333333,\"#31688e\"],[0.4444444444444444,\"#26828e\"],[0.5555555555555556,\"#1f9e89\"],[0.6666666666666666,\"#35b779\"],[0.7777777777777778,\"#6ece58\"],[0.8888888888888888,\"#b5de2b\"],[1.0,\"#fde725\"]],\"type\":\"histogram2dcontour\"}],\"histogram2d\":[{\"colorbar\":{\"outlinewidth\":1,\"tickcolor\":\"rgb(36,36,36)\",\"ticks\":\"outside\"},\"colorscale\":[[0.0,\"#440154\"],[0.1111111111111111,\"#482878\"],[0.2222222222222222,\"#3e4989\"],[0.3333333333333333,\"#31688e\"],[0.4444444444444444,\"#26828e\"],[0.5555555555555556,\"#1f9e89\"],[0.6666666666666666,\"#35b779\"],[0.7777777777777778,\"#6ece58\"],[0.8888888888888888,\"#b5de2b\"],[1.0,\"#fde725\"]],\"type\":\"histogram2d\"}],\"histogram\":[{\"marker\":{\"line\":{\"color\":\"white\",\"width\":0.6}},\"type\":\"histogram\"}],\"mesh3d\":[{\"colorbar\":{\"outlinewidth\":1,\"tickcolor\":\"rgb(36,36,36)\",\"ticks\":\"outside\"},\"type\":\"mesh3d\"}],\"parcoords\":[{\"line\":{\"colorbar\":{\"outlinewidth\":1,\"tickcolor\":\"rgb(36,36,36)\",\"ticks\":\"outside\"}},\"type\":\"parcoords\"}],\"pie\":[{\"automargin\":true,\"type\":\"pie\"}],\"scatter3d\":[{\"line\":{\"colorbar\":{\"outlinewidth\":1,\"tickcolor\":\"rgb(36,36,36)\",\"ticks\":\"outside\"}},\"marker\":{\"colorbar\":{\"outlinewidth\":1,\"tickcolor\":\"rgb(36,36,36)\",\"ticks\":\"outside\"}},\"type\":\"scatter3d\"}],\"scattercarpet\":[{\"marker\":{\"colorbar\":{\"outlinewidth\":1,\"tickcolor\":\"rgb(36,36,36)\",\"ticks\":\"outside\"}},\"type\":\"scattercarpet\"}],\"scattergeo\":[{\"marker\":{\"colorbar\":{\"outlinewidth\":1,\"tickcolor\":\"rgb(36,36,36)\",\"ticks\":\"outside\"}},\"type\":\"scattergeo\"}],\"scattergl\":[{\"marker\":{\"colorbar\":{\"outlinewidth\":1,\"tickcolor\":\"rgb(36,36,36)\",\"ticks\":\"outside\"}},\"type\":\"scattergl\"}],\"scattermapbox\":[{\"marker\":{\"colorbar\":{\"outlinewidth\":1,\"tickcolor\":\"rgb(36,36,36)\",\"ticks\":\"outside\"}},\"type\":\"scattermapbox\"}],\"scatterpolargl\":[{\"marker\":{\"colorbar\":{\"outlinewidth\":1,\"tickcolor\":\"rgb(36,36,36)\",\"ticks\":\"outside\"}},\"type\":\"scatterpolargl\"}],\"scatterpolar\":[{\"marker\":{\"colorbar\":{\"outlinewidth\":1,\"tickcolor\":\"rgb(36,36,36)\",\"ticks\":\"outside\"}},\"type\":\"scatterpolar\"}],\"scatter\":[{\"marker\":{\"colorbar\":{\"outlinewidth\":1,\"tickcolor\":\"rgb(36,36,36)\",\"ticks\":\"outside\"}},\"type\":\"scatter\"}],\"scatterternary\":[{\"marker\":{\"colorbar\":{\"outlinewidth\":1,\"tickcolor\":\"rgb(36,36,36)\",\"ticks\":\"outside\"}},\"type\":\"scatterternary\"}],\"surface\":[{\"colorbar\":{\"outlinewidth\":1,\"tickcolor\":\"rgb(36,36,36)\",\"ticks\":\"outside\"},\"colorscale\":[[0.0,\"#440154\"],[0.1111111111111111,\"#482878\"],[0.2222222222222222,\"#3e4989\"],[0.3333333333333333,\"#31688e\"],[0.4444444444444444,\"#26828e\"],[0.5555555555555556,\"#1f9e89\"],[0.6666666666666666,\"#35b779\"],[0.7777777777777778,\"#6ece58\"],[0.8888888888888888,\"#b5de2b\"],[1.0,\"#fde725\"]],\"type\":\"surface\"}],\"table\":[{\"cells\":{\"fill\":{\"color\":\"rgb(237,237,237)\"},\"line\":{\"color\":\"white\"}},\"header\":{\"fill\":{\"color\":\"rgb(217,217,217)\"},\"line\":{\"color\":\"white\"}},\"type\":\"table\"}]},\"layout\":{\"annotationdefaults\":{\"arrowhead\":0,\"arrowwidth\":1},\"autotypenumbers\":\"strict\",\"coloraxis\":{\"colorbar\":{\"outlinewidth\":1,\"tickcolor\":\"rgb(36,36,36)\",\"ticks\":\"outside\"}},\"colorscale\":{\"diverging\":[[0.0,\"rgb(103,0,31)\"],[0.1,\"rgb(178,24,43)\"],[0.2,\"rgb(214,96,77)\"],[0.3,\"rgb(244,165,130)\"],[0.4,\"rgb(253,219,199)\"],[0.5,\"rgb(247,247,247)\"],[0.6,\"rgb(209,229,240)\"],[0.7,\"rgb(146,197,222)\"],[0.8,\"rgb(67,147,195)\"],[0.9,\"rgb(33,102,172)\"],[1.0,\"rgb(5,48,97)\"]],\"sequential\":[[0.0,\"#440154\"],[0.1111111111111111,\"#482878\"],[0.2222222222222222,\"#3e4989\"],[0.3333333333333333,\"#31688e\"],[0.4444444444444444,\"#26828e\"],[0.5555555555555556,\"#1f9e89\"],[0.6666666666666666,\"#35b779\"],[0.7777777777777778,\"#6ece58\"],[0.8888888888888888,\"#b5de2b\"],[1.0,\"#fde725\"]],\"sequentialminus\":[[0.0,\"#440154\"],[0.1111111111111111,\"#482878\"],[0.2222222222222222,\"#3e4989\"],[0.3333333333333333,\"#31688e\"],[0.4444444444444444,\"#26828e\"],[0.5555555555555556,\"#1f9e89\"],[0.6666666666666666,\"#35b779\"],[0.7777777777777778,\"#6ece58\"],[0.8888888888888888,\"#b5de2b\"],[1.0,\"#fde725\"]]},\"colorway\":[\"#1F77B4\",\"#FF7F0E\",\"#2CA02C\",\"#D62728\",\"#9467BD\",\"#8C564B\",\"#E377C2\",\"#7F7F7F\",\"#BCBD22\",\"#17BECF\"],\"font\":{\"color\":\"rgb(36,36,36)\"},\"geo\":{\"bgcolor\":\"white\",\"lakecolor\":\"white\",\"landcolor\":\"white\",\"showlakes\":true,\"showland\":true,\"subunitcolor\":\"white\"},\"hoverlabel\":{\"align\":\"left\"},\"hovermode\":\"closest\",\"mapbox\":{\"style\":\"light\"},\"paper_bgcolor\":\"white\",\"plot_bgcolor\":\"white\",\"polar\":{\"angularaxis\":{\"gridcolor\":\"rgb(232,232,232)\",\"linecolor\":\"rgb(36,36,36)\",\"showgrid\":false,\"showline\":true,\"ticks\":\"outside\"},\"bgcolor\":\"white\",\"radialaxis\":{\"gridcolor\":\"rgb(232,232,232)\",\"linecolor\":\"rgb(36,36,36)\",\"showgrid\":false,\"showline\":true,\"ticks\":\"outside\"}},\"scene\":{\"xaxis\":{\"backgroundcolor\":\"white\",\"gridcolor\":\"rgb(232,232,232)\",\"gridwidth\":2,\"linecolor\":\"rgb(36,36,36)\",\"showbackground\":true,\"showgrid\":false,\"showline\":true,\"ticks\":\"outside\",\"zeroline\":false,\"zerolinecolor\":\"rgb(36,36,36)\"},\"yaxis\":{\"backgroundcolor\":\"white\",\"gridcolor\":\"rgb(232,232,232)\",\"gridwidth\":2,\"linecolor\":\"rgb(36,36,36)\",\"showbackground\":true,\"showgrid\":false,\"showline\":true,\"ticks\":\"outside\",\"zeroline\":false,\"zerolinecolor\":\"rgb(36,36,36)\"},\"zaxis\":{\"backgroundcolor\":\"white\",\"gridcolor\":\"rgb(232,232,232)\",\"gridwidth\":2,\"linecolor\":\"rgb(36,36,36)\",\"showbackground\":true,\"showgrid\":false,\"showline\":true,\"ticks\":\"outside\",\"zeroline\":false,\"zerolinecolor\":\"rgb(36,36,36)\"}},\"shapedefaults\":{\"fillcolor\":\"black\",\"line\":{\"width\":0},\"opacity\":0.3},\"ternary\":{\"aaxis\":{\"gridcolor\":\"rgb(232,232,232)\",\"linecolor\":\"rgb(36,36,36)\",\"showgrid\":false,\"showline\":true,\"ticks\":\"outside\"},\"baxis\":{\"gridcolor\":\"rgb(232,232,232)\",\"linecolor\":\"rgb(36,36,36)\",\"showgrid\":false,\"showline\":true,\"ticks\":\"outside\"},\"bgcolor\":\"white\",\"caxis\":{\"gridcolor\":\"rgb(232,232,232)\",\"linecolor\":\"rgb(36,36,36)\",\"showgrid\":false,\"showline\":true,\"ticks\":\"outside\"}},\"title\":{\"x\":0.05},\"xaxis\":{\"automargin\":true,\"gridcolor\":\"rgb(232,232,232)\",\"linecolor\":\"rgb(36,36,36)\",\"showgrid\":false,\"showline\":true,\"ticks\":\"outside\",\"title\":{\"standoff\":15},\"zeroline\":false,\"zerolinecolor\":\"rgb(36,36,36)\"},\"yaxis\":{\"automargin\":true,\"gridcolor\":\"rgb(232,232,232)\",\"linecolor\":\"rgb(36,36,36)\",\"showgrid\":false,\"showline\":true,\"ticks\":\"outside\",\"title\":{\"standoff\":15},\"zeroline\":false,\"zerolinecolor\":\"rgb(36,36,36)\"}}},\"title\":{\"text\":\"Distribution Of User Rating\"},\"font\":{\"family\":\"Arial\",\"size\":12,\"color\":\"black\"}},                        {\"responsive\": true}                    ).then(function(){\n",
              "                            \n",
              "var gd = document.getElementById('074d26da-3539-4f62-81f4-bc960475a265');\n",
              "var x = new MutationObserver(function (mutations, observer) {{\n",
              "        var display = window.getComputedStyle(gd).display;\n",
              "        if (!display || display === 'none') {{\n",
              "            console.log([gd, 'removed!']);\n",
              "            Plotly.purge(gd);\n",
              "            observer.disconnect();\n",
              "        }}\n",
              "}});\n",
              "\n",
              "// Listen for the removal of the full notebook cells\n",
              "var notebookContainer = gd.closest('#notebook-container');\n",
              "if (notebookContainer) {{\n",
              "    x.observe(notebookContainer, {childList: true});\n",
              "}}\n",
              "\n",
              "// Listen for the clearing of the current output cell\n",
              "var outputEl = gd.closest('.output');\n",
              "if (outputEl) {{\n",
              "    x.observe(outputEl, {childList: true});\n",
              "}}\n",
              "\n",
              "                        })                };                            </script>        </div>\n",
              "</body>\n",
              "</html>"
            ]
          },
          "metadata": {}
        }
      ]
    },
    {
      "cell_type": "markdown",
      "source": [
        "# Conclusion\n",
        "Hence descriptive analysis is performed by evaluating mean, variance, standard deviaton, skewness, etc. of features present in the dataset. The hypothesis testing is performed for testing the independence between two categorical variables. Normality test is performed for numerical attributes by using histogram distribution for visual test.\n"
      ],
      "metadata": {
        "id": "UOzjBWHlLlCO"
      }
    }
  ]
}